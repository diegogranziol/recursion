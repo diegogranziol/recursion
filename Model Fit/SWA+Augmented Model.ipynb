{
 "cells": [
  {
   "cell_type": "markdown",
   "id": "4f40c724",
   "metadata": {},
   "source": [
    "# Data Augmentation\n",
    "Courtesy of https://github.com/EBjerrum/SMILES-enumeration/blob/master/SmilesEnumerator.py\n",
    "From this paper https://arxiv.org/pdf/1703.07076\n",
    "Mentioned in ChemBerta https://arxiv.org/pdf/2010.09885\n"
   ]
  },
  {
   "cell_type": "code",
   "execution_count": 1,
   "id": "3c603425",
   "metadata": {},
   "outputs": [],
   "source": [
    "#Experimental Class for Smiles Enumeration, Iterator and SmilesIterator adapted from Keras 1.2.2\n",
    "from rdkit import Chem\n",
    "import numpy as np\n",
    "import threading\n",
    "\n",
    "class Iterator(object):\n",
    "    \"\"\"Abstract base class for data iterators.\n",
    "\n",
    "    # Arguments\n",
    "        n: Integer, total number of samples in the dataset to loop over.\n",
    "        batch_size: Integer, size of a batch.\n",
    "        shuffle: Boolean, whether to shuffle the data between epochs.\n",
    "        seed: Random seeding for data shuffling.\n",
    "    \"\"\"\n",
    "\n",
    "    def __init__(self, n, batch_size, shuffle, seed):\n",
    "        self.n = n\n",
    "        self.batch_size = batch_size\n",
    "        self.shuffle = shuffle\n",
    "        self.batch_index = 0\n",
    "        self.total_batches_seen = 0\n",
    "        self.lock = threading.Lock()\n",
    "        self.index_generator = self._flow_index(n, batch_size, shuffle, seed)\n",
    "        if n < batch_size:\n",
    "            raise ValueError('Input data length is shorter than batch_size\\nAdjust batch_size')\n",
    "\n",
    "    def reset(self):\n",
    "        self.batch_index = 0\n",
    "\n",
    "    def _flow_index(self, n, batch_size=32, shuffle=False, seed=None):\n",
    "        # Ensure self.batch_index is 0.\n",
    "        self.reset()\n",
    "        while 1:\n",
    "            if seed is not None:\n",
    "                np.random.seed(seed + self.total_batches_seen)\n",
    "            if self.batch_index == 0:\n",
    "                index_array = np.arange(n)\n",
    "                if shuffle:\n",
    "                    index_array = np.random.permutation(n)\n",
    "\n",
    "            current_index = (self.batch_index * batch_size) % n\n",
    "            if n > current_index + batch_size:\n",
    "                current_batch_size = batch_size\n",
    "                self.batch_index += 1\n",
    "            else:\n",
    "                current_batch_size = n - current_index\n",
    "                self.batch_index = 0\n",
    "            self.total_batches_seen += 1\n",
    "            yield (index_array[current_index: current_index + current_batch_size],\n",
    "                   current_index, current_batch_size)\n",
    "\n",
    "    def __iter__(self):\n",
    "        # Needed if we want to do something like:\n",
    "        # for x, y in data_gen.flow(...):\n",
    "        return self\n",
    "\n",
    "    def __next__(self, *args, **kwargs):\n",
    "        return self.next(*args, **kwargs)\n",
    "\n",
    "\n",
    "\n",
    "\n",
    "class SmilesIterator(Iterator):\n",
    "    \"\"\"Iterator yielding data from a SMILES array.\n",
    "\n",
    "    # Arguments\n",
    "        x: Numpy array of SMILES input data.\n",
    "        y: Numpy array of targets data.\n",
    "        smiles_data_generator: Instance of `SmilesEnumerator`\n",
    "            to use for random SMILES generation.\n",
    "        batch_size: Integer, size of a batch.\n",
    "        shuffle: Boolean, whether to shuffle the data between epochs.\n",
    "        seed: Random seed for data shuffling.\n",
    "        dtype: dtype to use for returned batch. Set to keras.backend.floatx if using Keras\n",
    "    \"\"\"\n",
    "\n",
    "    def __init__(self, x, y, smiles_data_generator,\n",
    "                 batch_size=32, shuffle=False, seed=None,\n",
    "                 dtype=np.float32\n",
    "                 ):\n",
    "        if y is not None and len(x) != len(y):\n",
    "            raise ValueError('X (images tensor) and y (labels) '\n",
    "                             'should have the same length. '\n",
    "                             'Found: X.shape = %s, y.shape = %s' %\n",
    "                             (np.asarray(x).shape, np.asarray(y).shape))\n",
    "\n",
    "        self.x = np.asarray(x)\n",
    "\n",
    "        if y is not None:\n",
    "            self.y = np.asarray(y)\n",
    "        else:\n",
    "            self.y = None\n",
    "        self.smiles_data_generator = smiles_data_generator\n",
    "        self.dtype = dtype\n",
    "        super(SmilesIterator, self).__init__(x.shape[0], batch_size, shuffle, seed)\n",
    "\n",
    "    def next(self):\n",
    "        \"\"\"For python 2.x.\n",
    "\n",
    "        # Returns\n",
    "            The next batch.\n",
    "        \"\"\"\n",
    "        # Keeps under lock only the mechanism which advances\n",
    "        # the indexing of each batch.\n",
    "        with self.lock:\n",
    "            index_array, current_index, current_batch_size = next(self.index_generator)\n",
    "        # The transformation of images is not under thread lock\n",
    "        # so it can be done in parallel\n",
    "        batch_x = np.zeros(tuple([current_batch_size] + [ self.smiles_data_generator.pad, self.smiles_data_generator._charlen]), dtype=self.dtype)\n",
    "        for i, j in enumerate(index_array):\n",
    "            smiles = self.x[j:j+1]\n",
    "            x = self.smiles_data_generator.transform(smiles)\n",
    "            batch_x[i] = x\n",
    "\n",
    "        if self.y is None:\n",
    "            return batch_x\n",
    "        batch_y = self.y[index_array]\n",
    "        return batch_x, batch_y\n",
    "\n",
    "\n",
    "class SmilesEnumerator(object):\n",
    "    \"\"\"SMILES Enumerator, vectorizer and devectorizer\n",
    "    \n",
    "    #Arguments\n",
    "        charset: string containing the characters for the vectorization\n",
    "          can also be generated via the .fit() method\n",
    "        pad: Length of the vectorization\n",
    "        leftpad: Add spaces to the left of the SMILES\n",
    "        isomericSmiles: Generate SMILES containing information about stereogenic centers\n",
    "        enum: Enumerate the SMILES during transform\n",
    "        canonical: use canonical SMILES during transform (overrides enum)\n",
    "    \"\"\"\n",
    "    def __init__(self, charset = '@C)(=cOn1S2/H[N]\\\\', pad=120, leftpad=True, isomericSmiles=True, enum=True, canonical=False):\n",
    "        self._charset = None\n",
    "        self.charset = charset\n",
    "        self.pad = pad\n",
    "        self.leftpad = leftpad\n",
    "        self.isomericSmiles = isomericSmiles\n",
    "        self.enumerate = enum\n",
    "        self.canonical = canonical\n",
    "\n",
    "    @property\n",
    "    def charset(self):\n",
    "        return self._charset\n",
    "        \n",
    "    @charset.setter\n",
    "    def charset(self, charset):\n",
    "        self._charset = charset\n",
    "        self._charlen = len(charset)\n",
    "        self._char_to_int = dict((c,i) for i,c in enumerate(charset))\n",
    "        self._int_to_char = dict((i,c) for i,c in enumerate(charset))\n",
    "        \n",
    "    def fit(self, smiles, extra_chars=[], extra_pad = 5):\n",
    "        \"\"\"Performs extraction of the charset and length of a SMILES datasets and sets self.pad and self.charset\n",
    "        \n",
    "        #Arguments\n",
    "            smiles: Numpy array or Pandas series containing smiles as strings\n",
    "            extra_chars: List of extra chars to add to the charset (e.g. \"\\\\\\\\\" when \"/\" is present)\n",
    "            extra_pad: Extra padding to add before or after the SMILES vectorization\n",
    "        \"\"\"\n",
    "        charset = set(\"\".join(list(smiles)))\n",
    "        self.charset = \"\".join(charset.union(set(extra_chars)))\n",
    "        self.pad = max([len(smile) for smile in smiles]) + extra_pad\n",
    "        \n",
    "    def randomize_smiles(self, smiles):\n",
    "        \"\"\"Perform a randomization of a SMILES string\n",
    "        must be RDKit sanitizable\"\"\"\n",
    "        m = Chem.MolFromSmiles(smiles)\n",
    "        ans = list(range(m.GetNumAtoms()))\n",
    "        np.random.shuffle(ans)\n",
    "        nm = Chem.RenumberAtoms(m,ans)\n",
    "        return Chem.MolToSmiles(nm, canonical=self.canonical, isomericSmiles=self.isomericSmiles)\n",
    "\n",
    "    def transform(self, smiles):\n",
    "        \"\"\"Perform an enumeration (randomization) and vectorization of a Numpy array of smiles strings\n",
    "        #Arguments\n",
    "            smiles: Numpy array or Pandas series containing smiles as strings\n",
    "        \"\"\"\n",
    "        one_hot =  np.zeros((smiles.shape[0], self.pad, self._charlen),dtype=np.int8)\n",
    "        \n",
    "        if self.leftpad:\n",
    "            for i,ss in enumerate(smiles):\n",
    "                if self.enumerate: ss = self.randomize_smiles(ss)\n",
    "                l = len(ss)\n",
    "                diff = self.pad - l\n",
    "                for j,c in enumerate(ss):\n",
    "                    one_hot[i,j+diff,self._char_to_int[c]] = 1\n",
    "            return one_hot\n",
    "        else:\n",
    "            for i,ss in enumerate(smiles):\n",
    "                if self.enumerate: ss = self.randomize_smiles(ss)\n",
    "                for j,c in enumerate(ss):\n",
    "                    one_hot[i,j,self._char_to_int[c]] = 1\n",
    "            return one_hot\n",
    "\n",
    "      \n",
    "    def reverse_transform(self, vect):\n",
    "        \"\"\" Performs a conversion of a vectorized SMILES to a smiles strings\n",
    "        charset must be the same as used for vectorization.\n",
    "        #Arguments\n",
    "            vect: Numpy array of vectorized SMILES.\n",
    "        \"\"\"       \n",
    "        smiles = []\n",
    "        for v in vect:\n",
    "            #mask v \n",
    "            v=v[v.sum(axis=1)==1]\n",
    "            #Find one hot encoded index with argmax, translate to char and join to string\n",
    "            smile = \"\".join(self._int_to_char[i] for i in v.argmax(axis=1))\n",
    "            smiles.append(smile)\n",
    "        return np.array(smiles)\n",
    "     \n",
    "if __name__ == \"__main__\":\n",
    "    smiles = np.array([ \"CCC(=O)O[C@@]1(CC[NH+](C[C@H]1CC=C)C)c2ccccc2\",\n",
    "                        \"CCC[S@@](=O)c1ccc2c(c1)[nH]/c(=N/C(=O)OC)/[nH]2\"]*10\n",
    "                        )\n",
    "    #Test canonical SMILES vectorization\n",
    "    sm_en = SmilesEnumerator(canonical=True, enum=False)\n",
    "    sm_en.fit(smiles, extra_chars=[\"\\\\\"])\n",
    "    v = sm_en.transform(smiles)\n",
    "    transformed = sm_en.reverse_transform(v)\n",
    "    if len(set(transformed)) > 2: print(\"Too many different canonical SMILES generated\")\n",
    "    \n",
    "    #Test enumeration \n",
    "    sm_en.canonical = False\n",
    "    sm_en.enumerate = True\n",
    "    v2 = sm_en.transform(smiles)\n",
    "    transformed = sm_en.reverse_transform(v2)\n",
    "    if len(set(transformed)) < 3: print(\"Too few enumerated SMILES generated\")\n",
    "\n",
    "    #Reconstruction\n",
    "    reconstructed = sm_en.reverse_transform(v[0:5])\n",
    "    for i, smile in enumerate(reconstructed):\n",
    "        if smile != smiles[i]:\n",
    "            print(\"Error in reconstruction %s %s\"%(smile, smiles[i]))\n",
    "            break\n",
    "    \n",
    "    #test Pandas\n",
    "    import pandas as pd\n",
    "    df = pd.DataFrame(smiles)\n",
    "    v = sm_en.transform(df[0])\n",
    "    if v.shape != (20, 52, 18): print(\"Possible error in pandas use\")\n",
    "    \n",
    "    #BUG, when batchsize > x.shape[0], then it only returns x.shape[0]!\n",
    "    #Test batch generation\n",
    "    sm_it = SmilesIterator(smiles, np.array([1,2]*10), sm_en, batch_size=10, shuffle=True)\n",
    "    X, y = sm_it.next()\n",
    "    if sum(y==1) - sum(y==2) > 1:\n",
    "        print(\"Unbalanced generation of batches\")\n",
    "    if len(X) != 10: print(\"Error in batchsize generation\")\n",
    "\n",
    "\n",
    "\n",
    "        "
   ]
  },
  {
   "cell_type": "code",
   "execution_count": 2,
   "id": "3f443a20",
   "metadata": {},
   "outputs": [],
   "source": [
    "sme = SmilesEnumerator()"
   ]
  },
  {
   "cell_type": "markdown",
   "id": "94c743cc",
   "metadata": {},
   "source": [
    "Check that this works."
   ]
  },
  {
   "cell_type": "code",
   "execution_count": 3,
   "id": "b0b752e3",
   "metadata": {},
   "outputs": [
    {
     "name": "stdout",
     "output_type": "stream",
     "text": [
      "CCC\n",
      "CCC\n",
      "C(C)C\n",
      "C(C)C\n",
      "CCC\n",
      "CCC\n",
      "CCC\n",
      "C(C)C\n",
      "C(C)C\n",
      "CCC\n"
     ]
    }
   ],
   "source": [
    "for i in range(10):\n",
    "    print(sme.randomize_smiles(\"CCC\"))"
   ]
  },
  {
   "cell_type": "markdown",
   "id": "8970ca90",
   "metadata": {},
   "source": [
    "For a random number like 10, we may see a lot of duplication"
   ]
  },
  {
   "cell_type": "code",
   "execution_count": 4,
   "id": "e969197a",
   "metadata": {},
   "outputs": [
    {
     "name": "stdout",
     "output_type": "stream",
     "text": [
      "['CCC', 'C(C)C']\n"
     ]
    }
   ],
   "source": [
    "new_dict = {}\n",
    "for i in range(100):\n",
    "    new_dict[sme.randomize_smiles(\"CCC\")] = True\n",
    "print(list(new_dict.keys()))"
   ]
  },
  {
   "cell_type": "code",
   "execution_count": 5,
   "id": "46d32d40",
   "metadata": {},
   "outputs": [
    {
     "name": "stdout",
     "output_type": "stream",
     "text": [
      "['c1cc(C)ccc1', 'Cc1ccccc1', 'c1c(C)cccc1', 'c1cccc(C)c1', 'c1(C)ccccc1', 'c1ccccc1C', 'c1ccc(C)cc1']\n"
     ]
    }
   ],
   "source": [
    "new_dict = {}\n",
    "for i in range(100):\n",
    "    new_dict[sme.randomize_smiles(\"Cc1ccccc1\")] = True\n",
    "print(list(new_dict.keys()))"
   ]
  },
  {
   "cell_type": "markdown",
   "id": "a4fd1a49",
   "metadata": {},
   "source": [
    "Check if anything went wrong here then add SWA\n",
    "https://www.jmlr.org/papers/v25/21-1125.html"
   ]
  },
  {
   "cell_type": "code",
   "execution_count": 12,
   "id": "d3a3bc97",
   "metadata": {},
   "outputs": [
    {
     "name": "stderr",
     "output_type": "stream",
     "text": [
      "Some weights of RobertaForSequenceClassification were not initialized from the model checkpoint at seyonec/ChemBERTa-zinc-base-v1 and are newly initialized: ['classifier.dense.bias', 'classifier.dense.weight', 'classifier.out_proj.bias', 'classifier.out_proj.weight']\n",
      "You should probably TRAIN this model on a down-stream task to be able to use it for predictions and inference.\n"
     ]
    },
    {
     "name": "stdout",
     "output_type": "stream",
     "text": [
      "Tokenizing datasets...\n",
      "Creating datasets...\n",
      "Creating DataLoader for batching...\n"
     ]
    },
    {
     "name": "stderr",
     "output_type": "stream",
     "text": [
      "/home/diegog/anaconda3/lib/python3.11/site-packages/transformers/optimization.py:588: FutureWarning: This implementation of AdamW is deprecated and will be removed in a future version. Use the PyTorch implementation torch.optim.AdamW instead, or set `no_deprecation_warning=True` to disable this warning\n",
      "  warnings.warn(\n"
     ]
    },
    {
     "name": "stdout",
     "output_type": "stream",
     "text": [
      "Creating optimizer and learning rate scheduler...\n",
      "Initializing SWA...\n",
      "Starting training loop...\n"
     ]
    },
    {
     "name": "stderr",
     "output_type": "stream",
     "text": [
      "Training Epoch 1: 100%|██████████████████████████████████████████████████████████████████████████| 8/8 [00:09<00:00,  1.14s/it]\n"
     ]
    },
    {
     "name": "stdout",
     "output_type": "stream",
     "text": [
      "Epoch 1 - Training Loss: 13.87985622882843\n"
     ]
    },
    {
     "name": "stderr",
     "output_type": "stream",
     "text": [
      "Validation Epoch 1: 100%|████████████████████████████████████████████████████████████████████████| 1/1 [00:00<00:00, 27.09it/s]\n"
     ]
    },
    {
     "name": "stdout",
     "output_type": "stream",
     "text": [
      "Epoch 1 - Validation Loss: 15.216232299804688\n"
     ]
    },
    {
     "name": "stderr",
     "output_type": "stream",
     "text": [
      "Training Epoch 2: 100%|██████████████████████████████████████████████████████████████████████████| 8/8 [00:09<00:00,  1.13s/it]\n"
     ]
    },
    {
     "name": "stdout",
     "output_type": "stream",
     "text": [
      "Epoch 2 - Training Loss: 5.415182173252106\n"
     ]
    },
    {
     "name": "stderr",
     "output_type": "stream",
     "text": [
      "Validation Epoch 2: 100%|████████████████████████████████████████████████████████████████████████| 1/1 [00:00<00:00, 27.17it/s]\n"
     ]
    },
    {
     "name": "stdout",
     "output_type": "stream",
     "text": [
      "Epoch 2 - Validation Loss: 11.005816459655762\n"
     ]
    },
    {
     "name": "stderr",
     "output_type": "stream",
     "text": [
      "Training Epoch 3: 100%|██████████████████████████████████████████████████████████████████████████| 8/8 [00:09<00:00,  1.14s/it]\n"
     ]
    },
    {
     "name": "stdout",
     "output_type": "stream",
     "text": [
      "Epoch 3 - Training Loss: 3.9532554149627686\n"
     ]
    },
    {
     "name": "stderr",
     "output_type": "stream",
     "text": [
      "Validation Epoch 3: 100%|████████████████████████████████████████████████████████████████████████| 1/1 [00:00<00:00, 27.13it/s]\n"
     ]
    },
    {
     "name": "stdout",
     "output_type": "stream",
     "text": [
      "Epoch 3 - Validation Loss: 9.935976028442383\n"
     ]
    },
    {
     "name": "stderr",
     "output_type": "stream",
     "text": [
      "Training Epoch 4: 100%|██████████████████████████████████████████████████████████████████████████| 8/8 [00:09<00:00,  1.14s/it]\n"
     ]
    },
    {
     "name": "stdout",
     "output_type": "stream",
     "text": [
      "Epoch 4 - Training Loss: 2.689452350139618\n"
     ]
    },
    {
     "name": "stderr",
     "output_type": "stream",
     "text": [
      "Validation Epoch 4: 100%|████████████████████████████████████████████████████████████████████████| 1/1 [00:00<00:00, 26.92it/s]\n"
     ]
    },
    {
     "name": "stdout",
     "output_type": "stream",
     "text": [
      "Epoch 4 - Validation Loss: 9.269729614257812\n"
     ]
    },
    {
     "name": "stderr",
     "output_type": "stream",
     "text": [
      "Training Epoch 5: 100%|██████████████████████████████████████████████████████████████████████████| 8/8 [00:09<00:00,  1.14s/it]\n"
     ]
    },
    {
     "name": "stdout",
     "output_type": "stream",
     "text": [
      "Epoch 5 - Training Loss: 1.839014858007431\n"
     ]
    },
    {
     "name": "stderr",
     "output_type": "stream",
     "text": [
      "Validation Epoch 5: 100%|████████████████████████████████████████████████████████████████████████| 1/1 [00:00<00:00, 26.90it/s]\n"
     ]
    },
    {
     "name": "stdout",
     "output_type": "stream",
     "text": [
      "Epoch 5 - Validation Loss: 8.211661338806152\n"
     ]
    },
    {
     "name": "stderr",
     "output_type": "stream",
     "text": [
      "Training Epoch 6: 100%|██████████████████████████████████████████████████████████████████████████| 8/8 [00:09<00:00,  1.16s/it]\n"
     ]
    },
    {
     "name": "stdout",
     "output_type": "stream",
     "text": [
      "Epoch 6 - Training Loss: 1.396876722574234\n"
     ]
    },
    {
     "name": "stderr",
     "output_type": "stream",
     "text": [
      "Validation Epoch 6: 100%|████████████████████████████████████████████████████████████████████████| 1/1 [00:00<00:00, 26.93it/s]\n"
     ]
    },
    {
     "name": "stdout",
     "output_type": "stream",
     "text": [
      "Epoch 6 - Validation Loss: 7.393630027770996\n"
     ]
    },
    {
     "name": "stderr",
     "output_type": "stream",
     "text": [
      "Training Epoch 7: 100%|██████████████████████████████████████████████████████████████████████████| 8/8 [00:09<00:00,  1.15s/it]\n"
     ]
    },
    {
     "name": "stdout",
     "output_type": "stream",
     "text": [
      "Epoch 7 - Training Loss: 1.110136330127716\n"
     ]
    },
    {
     "name": "stderr",
     "output_type": "stream",
     "text": [
      "Validation Epoch 7: 100%|████████████████████████████████████████████████████████████████████████| 1/1 [00:00<00:00, 27.25it/s]\n"
     ]
    },
    {
     "name": "stdout",
     "output_type": "stream",
     "text": [
      "Epoch 7 - Validation Loss: 6.809459209442139\n"
     ]
    },
    {
     "name": "stderr",
     "output_type": "stream",
     "text": [
      "Training Epoch 8: 100%|██████████████████████████████████████████████████████████████████████████| 8/8 [00:09<00:00,  1.15s/it]\n"
     ]
    },
    {
     "name": "stdout",
     "output_type": "stream",
     "text": [
      "Epoch 8 - Training Loss: 0.8839591890573502\n"
     ]
    },
    {
     "name": "stderr",
     "output_type": "stream",
     "text": [
      "Validation Epoch 8: 100%|████████████████████████████████████████████████████████████████████████| 1/1 [00:00<00:00, 26.81it/s]\n"
     ]
    },
    {
     "name": "stdout",
     "output_type": "stream",
     "text": [
      "Epoch 8 - Validation Loss: 6.591165542602539\n"
     ]
    },
    {
     "name": "stderr",
     "output_type": "stream",
     "text": [
      "Training Epoch 9: 100%|██████████████████████████████████████████████████████████████████████████| 8/8 [00:09<00:00,  1.15s/it]\n"
     ]
    },
    {
     "name": "stdout",
     "output_type": "stream",
     "text": [
      "Epoch 9 - Training Loss: 0.7550819590687752\n"
     ]
    },
    {
     "name": "stderr",
     "output_type": "stream",
     "text": [
      "Validation Epoch 9: 100%|████████████████████████████████████████████████████████████████████████| 1/1 [00:00<00:00, 26.93it/s]\n"
     ]
    },
    {
     "name": "stdout",
     "output_type": "stream",
     "text": [
      "Epoch 9 - Validation Loss: 6.2249956130981445\n"
     ]
    },
    {
     "name": "stderr",
     "output_type": "stream",
     "text": [
      "Training Epoch 10: 100%|█████████████████████████████████████████████████████████████████████████| 8/8 [00:09<00:00,  1.15s/it]\n"
     ]
    },
    {
     "name": "stdout",
     "output_type": "stream",
     "text": [
      "Epoch 10 - Training Loss: 0.6315258033573627\n"
     ]
    },
    {
     "name": "stderr",
     "output_type": "stream",
     "text": [
      "Validation Epoch 10: 100%|███████████████████████████████████████████████████████████████████████| 1/1 [00:00<00:00, 26.79it/s]\n"
     ]
    },
    {
     "name": "stdout",
     "output_type": "stream",
     "text": [
      "Epoch 10 - Validation Loss: 6.092299938201904\n"
     ]
    },
    {
     "name": "stderr",
     "output_type": "stream",
     "text": [
      "Training Epoch 11: 100%|█████████████████████████████████████████████████████████████████████████| 8/8 [00:09<00:00,  1.15s/it]\n"
     ]
    },
    {
     "name": "stdout",
     "output_type": "stream",
     "text": [
      "Epoch 11 - Training Loss: 0.5691409856081009\n"
     ]
    },
    {
     "name": "stderr",
     "output_type": "stream",
     "text": [
      "Validation Epoch 11: 100%|███████████████████████████████████████████████████████████████████████| 1/1 [00:00<00:00, 26.79it/s]\n"
     ]
    },
    {
     "name": "stdout",
     "output_type": "stream",
     "text": [
      "Epoch 11 - Validation Loss: 5.885162353515625\n"
     ]
    },
    {
     "name": "stderr",
     "output_type": "stream",
     "text": [
      "Training Epoch 12: 100%|█████████████████████████████████████████████████████████████████████████| 8/8 [00:09<00:00,  1.15s/it]\n"
     ]
    },
    {
     "name": "stdout",
     "output_type": "stream",
     "text": [
      "Epoch 12 - Training Loss: 0.5078592039644718\n"
     ]
    },
    {
     "name": "stderr",
     "output_type": "stream",
     "text": [
      "Validation Epoch 12: 100%|███████████████████████████████████████████████████████████████████████| 1/1 [00:00<00:00, 26.93it/s]\n"
     ]
    },
    {
     "name": "stdout",
     "output_type": "stream",
     "text": [
      "Epoch 12 - Validation Loss: 5.979198455810547\n"
     ]
    },
    {
     "name": "stderr",
     "output_type": "stream",
     "text": [
      "Training Epoch 13: 100%|█████████████████████████████████████████████████████████████████████████| 8/8 [00:09<00:00,  1.15s/it]\n"
     ]
    },
    {
     "name": "stdout",
     "output_type": "stream",
     "text": [
      "Epoch 13 - Training Loss: 0.46816687658429146\n"
     ]
    },
    {
     "name": "stderr",
     "output_type": "stream",
     "text": [
      "Validation Epoch 13: 100%|███████████████████████████████████████████████████████████████████████| 1/1 [00:00<00:00, 26.96it/s]\n"
     ]
    },
    {
     "name": "stdout",
     "output_type": "stream",
     "text": [
      "Epoch 13 - Validation Loss: 5.912832260131836\n"
     ]
    },
    {
     "name": "stderr",
     "output_type": "stream",
     "text": [
      "Training Epoch 14: 100%|█████████████████████████████████████████████████████████████████████████| 8/8 [00:09<00:00,  1.15s/it]\n"
     ]
    },
    {
     "name": "stdout",
     "output_type": "stream",
     "text": [
      "Epoch 14 - Training Loss: 0.4487992152571678\n"
     ]
    },
    {
     "name": "stderr",
     "output_type": "stream",
     "text": [
      "Validation Epoch 14: 100%|███████████████████████████████████████████████████████████████████████| 1/1 [00:00<00:00, 26.78it/s]\n"
     ]
    },
    {
     "name": "stdout",
     "output_type": "stream",
     "text": [
      "Epoch 14 - Validation Loss: 6.110393524169922\n"
     ]
    },
    {
     "name": "stderr",
     "output_type": "stream",
     "text": [
      "Training Epoch 15: 100%|█████████████████████████████████████████████████████████████████████████| 8/8 [00:09<00:00,  1.15s/it]\n"
     ]
    },
    {
     "name": "stdout",
     "output_type": "stream",
     "text": [
      "Epoch 15 - Training Loss: 0.40387191250920296\n"
     ]
    },
    {
     "name": "stderr",
     "output_type": "stream",
     "text": [
      "Validation Epoch 15: 100%|███████████████████████████████████████████████████████████████████████| 1/1 [00:00<00:00, 26.86it/s]\n"
     ]
    },
    {
     "name": "stdout",
     "output_type": "stream",
     "text": [
      "Epoch 15 - Validation Loss: 6.054356098175049\n"
     ]
    },
    {
     "name": "stderr",
     "output_type": "stream",
     "text": [
      "Training Epoch 16: 100%|█████████████████████████████████████████████████████████████████████████| 8/8 [00:09<00:00,  1.15s/it]\n"
     ]
    },
    {
     "name": "stdout",
     "output_type": "stream",
     "text": [
      "Epoch 16 - Training Loss: 0.3568425290286541\n"
     ]
    },
    {
     "name": "stderr",
     "output_type": "stream",
     "text": [
      "Validation Epoch 16: 100%|███████████████████████████████████████████████████████████████████████| 1/1 [00:00<00:00, 27.08it/s]\n"
     ]
    },
    {
     "name": "stdout",
     "output_type": "stream",
     "text": [
      "Epoch 16 - Validation Loss: 5.9643354415893555\n"
     ]
    },
    {
     "name": "stderr",
     "output_type": "stream",
     "text": [
      "Training Epoch 17: 100%|█████████████████████████████████████████████████████████████████████████| 8/8 [00:09<00:00,  1.15s/it]\n"
     ]
    },
    {
     "name": "stdout",
     "output_type": "stream",
     "text": [
      "Epoch 17 - Training Loss: 0.3454570472240448\n"
     ]
    },
    {
     "name": "stderr",
     "output_type": "stream",
     "text": [
      "Validation Epoch 17: 100%|███████████████████████████████████████████████████████████████████████| 1/1 [00:00<00:00, 26.77it/s]\n"
     ]
    },
    {
     "name": "stdout",
     "output_type": "stream",
     "text": [
      "Epoch 17 - Validation Loss: 6.001758098602295\n"
     ]
    },
    {
     "name": "stderr",
     "output_type": "stream",
     "text": [
      "Training Epoch 18: 100%|█████████████████████████████████████████████████████████████████████████| 8/8 [00:09<00:00,  1.15s/it]\n"
     ]
    },
    {
     "name": "stdout",
     "output_type": "stream",
     "text": [
      "Epoch 18 - Training Loss: 0.3143790699541569\n"
     ]
    },
    {
     "name": "stderr",
     "output_type": "stream",
     "text": [
      "Validation Epoch 18: 100%|███████████████████████████████████████████████████████████████████████| 1/1 [00:00<00:00, 26.85it/s]\n"
     ]
    },
    {
     "name": "stdout",
     "output_type": "stream",
     "text": [
      "Epoch 18 - Validation Loss: 6.081533432006836\n"
     ]
    },
    {
     "name": "stderr",
     "output_type": "stream",
     "text": [
      "Training Epoch 19: 100%|█████████████████████████████████████████████████████████████████████████| 8/8 [00:09<00:00,  1.15s/it]\n"
     ]
    },
    {
     "name": "stdout",
     "output_type": "stream",
     "text": [
      "Epoch 19 - Training Loss: 0.3007790707051754\n"
     ]
    },
    {
     "name": "stderr",
     "output_type": "stream",
     "text": [
      "Validation Epoch 19: 100%|███████████████████████████████████████████████████████████████████████| 1/1 [00:00<00:00, 26.79it/s]\n"
     ]
    },
    {
     "name": "stdout",
     "output_type": "stream",
     "text": [
      "Epoch 19 - Validation Loss: 5.807711601257324\n"
     ]
    },
    {
     "name": "stderr",
     "output_type": "stream",
     "text": [
      "Training Epoch 20: 100%|█████████████████████████████████████████████████████████████████████████| 8/8 [00:09<00:00,  1.15s/it]\n"
     ]
    },
    {
     "name": "stdout",
     "output_type": "stream",
     "text": [
      "Epoch 20 - Training Loss: 0.28233542665839195\n"
     ]
    },
    {
     "name": "stderr",
     "output_type": "stream",
     "text": [
      "Validation Epoch 20: 100%|███████████████████████████████████████████████████████████████████████| 1/1 [00:00<00:00, 27.10it/s]\n"
     ]
    },
    {
     "name": "stdout",
     "output_type": "stream",
     "text": [
      "Epoch 20 - Validation Loss: 5.652838706970215\n"
     ]
    },
    {
     "name": "stderr",
     "output_type": "stream",
     "text": [
      "Training Epoch 21: 100%|█████████████████████████████████████████████████████████████████████████| 8/8 [00:09<00:00,  1.15s/it]\n"
     ]
    },
    {
     "name": "stdout",
     "output_type": "stream",
     "text": [
      "Epoch 21 - Training Loss: 0.27489151805639267\n"
     ]
    },
    {
     "name": "stderr",
     "output_type": "stream",
     "text": [
      "Validation Epoch 21: 100%|███████████████████████████████████████████████████████████████████████| 1/1 [00:00<00:00, 26.86it/s]\n"
     ]
    },
    {
     "name": "stdout",
     "output_type": "stream",
     "text": [
      "Epoch 21 - Validation Loss: 5.729191780090332\n"
     ]
    },
    {
     "name": "stderr",
     "output_type": "stream",
     "text": [
      "SWA Validation Epoch 21: 100%|███████████████████████████████████████████████████████████████████| 1/1 [00:00<00:00, 27.10it/s]\n"
     ]
    },
    {
     "name": "stdout",
     "output_type": "stream",
     "text": [
      "SWA Model Evaluation after epoch 21 - Validation Loss: 5.729191780090332\n"
     ]
    },
    {
     "name": "stderr",
     "output_type": "stream",
     "text": [
      "Training Epoch 22: 100%|█████████████████████████████████████████████████████████████████████████| 8/8 [00:09<00:00,  1.15s/it]\n"
     ]
    },
    {
     "name": "stdout",
     "output_type": "stream",
     "text": [
      "Epoch 22 - Training Loss: 0.2720906715840101\n"
     ]
    },
    {
     "name": "stderr",
     "output_type": "stream",
     "text": [
      "Validation Epoch 22: 100%|███████████████████████████████████████████████████████████████████████| 1/1 [00:00<00:00, 26.93it/s]\n"
     ]
    },
    {
     "name": "stdout",
     "output_type": "stream",
     "text": [
      "Epoch 22 - Validation Loss: 5.732114315032959\n"
     ]
    },
    {
     "name": "stderr",
     "output_type": "stream",
     "text": [
      "SWA Validation Epoch 22: 100%|███████████████████████████████████████████████████████████████████| 1/1 [00:00<00:00, 27.09it/s]\n"
     ]
    },
    {
     "name": "stdout",
     "output_type": "stream",
     "text": [
      "SWA Model Evaluation after epoch 22 - Validation Loss: 5.7121195793151855\n"
     ]
    },
    {
     "name": "stderr",
     "output_type": "stream",
     "text": [
      "Training Epoch 23: 100%|█████████████████████████████████████████████████████████████████████████| 8/8 [00:09<00:00,  1.15s/it]\n"
     ]
    },
    {
     "name": "stdout",
     "output_type": "stream",
     "text": [
      "Epoch 23 - Training Loss: 0.2524154968559742\n"
     ]
    },
    {
     "name": "stderr",
     "output_type": "stream",
     "text": [
      "Validation Epoch 23: 100%|███████████████████████████████████████████████████████████████████████| 1/1 [00:00<00:00, 27.07it/s]\n"
     ]
    },
    {
     "name": "stdout",
     "output_type": "stream",
     "text": [
      "Epoch 23 - Validation Loss: 5.707723617553711\n"
     ]
    },
    {
     "name": "stderr",
     "output_type": "stream",
     "text": [
      "SWA Validation Epoch 23: 100%|███████████████████████████████████████████████████████████████████| 1/1 [00:00<00:00, 26.77it/s]\n"
     ]
    },
    {
     "name": "stdout",
     "output_type": "stream",
     "text": [
      "SWA Model Evaluation after epoch 23 - Validation Loss: 5.700191974639893\n"
     ]
    },
    {
     "name": "stderr",
     "output_type": "stream",
     "text": [
      "Training Epoch 24: 100%|█████████████████████████████████████████████████████████████████████████| 8/8 [00:09<00:00,  1.15s/it]\n"
     ]
    },
    {
     "name": "stdout",
     "output_type": "stream",
     "text": [
      "Epoch 24 - Training Loss: 0.24528527818620205\n"
     ]
    },
    {
     "name": "stderr",
     "output_type": "stream",
     "text": [
      "Validation Epoch 24: 100%|███████████████████████████████████████████████████████████████████████| 1/1 [00:00<00:00, 27.26it/s]\n"
     ]
    },
    {
     "name": "stdout",
     "output_type": "stream",
     "text": [
      "Epoch 24 - Validation Loss: 5.624582290649414\n"
     ]
    },
    {
     "name": "stderr",
     "output_type": "stream",
     "text": [
      "SWA Validation Epoch 24: 100%|███████████████████████████████████████████████████████████████████| 1/1 [00:00<00:00, 26.72it/s]\n"
     ]
    },
    {
     "name": "stdout",
     "output_type": "stream",
     "text": [
      "SWA Model Evaluation after epoch 24 - Validation Loss: 5.677714824676514\n"
     ]
    },
    {
     "name": "stderr",
     "output_type": "stream",
     "text": [
      "Training Epoch 25: 100%|█████████████████████████████████████████████████████████████████████████| 8/8 [00:09<00:00,  1.15s/it]\n"
     ]
    },
    {
     "name": "stdout",
     "output_type": "stream",
     "text": [
      "Epoch 25 - Training Loss: 0.2298794537782669\n"
     ]
    },
    {
     "name": "stderr",
     "output_type": "stream",
     "text": [
      "Validation Epoch 25: 100%|███████████████████████████████████████████████████████████████████████| 1/1 [00:00<00:00, 27.01it/s]\n"
     ]
    },
    {
     "name": "stdout",
     "output_type": "stream",
     "text": [
      "Epoch 25 - Validation Loss: 5.715910911560059\n"
     ]
    },
    {
     "name": "stderr",
     "output_type": "stream",
     "text": [
      "SWA Validation Epoch 25: 100%|███████████████████████████████████████████████████████████████████| 1/1 [00:00<00:00, 27.05it/s]\n"
     ]
    },
    {
     "name": "stdout",
     "output_type": "stream",
     "text": [
      "SWA Model Evaluation after epoch 25 - Validation Loss: 5.6810302734375\n"
     ]
    },
    {
     "name": "stderr",
     "output_type": "stream",
     "text": [
      "Training Epoch 26: 100%|█████████████████████████████████████████████████████████████████████████| 8/8 [00:09<00:00,  1.17s/it]\n"
     ]
    },
    {
     "name": "stdout",
     "output_type": "stream",
     "text": [
      "Epoch 26 - Training Loss: 0.2363040205091238\n"
     ]
    },
    {
     "name": "stderr",
     "output_type": "stream",
     "text": [
      "Validation Epoch 26: 100%|███████████████████████████████████████████████████████████████████████| 1/1 [00:00<00:00, 27.02it/s]\n"
     ]
    },
    {
     "name": "stdout",
     "output_type": "stream",
     "text": [
      "Epoch 26 - Validation Loss: 5.785219192504883\n"
     ]
    },
    {
     "name": "stderr",
     "output_type": "stream",
     "text": [
      "SWA Validation Epoch 26: 100%|███████████████████████████████████████████████████████████████████| 1/1 [00:00<00:00, 27.14it/s]\n"
     ]
    },
    {
     "name": "stdout",
     "output_type": "stream",
     "text": [
      "SWA Model Evaluation after epoch 26 - Validation Loss: 5.681082248687744\n"
     ]
    },
    {
     "name": "stderr",
     "output_type": "stream",
     "text": [
      "Training Epoch 27: 100%|█████████████████████████████████████████████████████████████████████████| 8/8 [00:09<00:00,  1.15s/it]\n"
     ]
    },
    {
     "name": "stdout",
     "output_type": "stream",
     "text": [
      "Epoch 27 - Training Loss: 0.23764732293784618\n"
     ]
    },
    {
     "name": "stderr",
     "output_type": "stream",
     "text": [
      "Validation Epoch 27: 100%|███████████████████████████████████████████████████████████████████████| 1/1 [00:00<00:00, 26.98it/s]\n"
     ]
    },
    {
     "name": "stdout",
     "output_type": "stream",
     "text": [
      "Epoch 27 - Validation Loss: 5.760555267333984\n"
     ]
    },
    {
     "name": "stderr",
     "output_type": "stream",
     "text": [
      "SWA Validation Epoch 27: 100%|███████████████████████████████████████████████████████████████████| 1/1 [00:00<00:00, 26.93it/s]\n"
     ]
    },
    {
     "name": "stdout",
     "output_type": "stream",
     "text": [
      "SWA Model Evaluation after epoch 27 - Validation Loss: 5.682766914367676\n"
     ]
    },
    {
     "name": "stderr",
     "output_type": "stream",
     "text": [
      "Training Epoch 28: 100%|█████████████████████████████████████████████████████████████████████████| 8/8 [00:09<00:00,  1.15s/it]\n"
     ]
    },
    {
     "name": "stdout",
     "output_type": "stream",
     "text": [
      "Epoch 28 - Training Loss: 0.23707263730466366\n"
     ]
    },
    {
     "name": "stderr",
     "output_type": "stream",
     "text": [
      "Validation Epoch 28: 100%|███████████████████████████████████████████████████████████████████████| 1/1 [00:00<00:00, 27.17it/s]\n"
     ]
    },
    {
     "name": "stdout",
     "output_type": "stream",
     "text": [
      "Epoch 28 - Validation Loss: 5.566899299621582\n"
     ]
    },
    {
     "name": "stderr",
     "output_type": "stream",
     "text": [
      "SWA Validation Epoch 28: 100%|███████████████████████████████████████████████████████████████████| 1/1 [00:00<00:00, 27.15it/s]\n"
     ]
    },
    {
     "name": "stdout",
     "output_type": "stream",
     "text": [
      "SWA Model Evaluation after epoch 28 - Validation Loss: 5.661613941192627\n"
     ]
    },
    {
     "name": "stderr",
     "output_type": "stream",
     "text": [
      "Training Epoch 29: 100%|█████████████████████████████████████████████████████████████████████████| 8/8 [00:09<00:00,  1.15s/it]\n"
     ]
    },
    {
     "name": "stdout",
     "output_type": "stream",
     "text": [
      "Epoch 29 - Training Loss: 0.21872192434966564\n"
     ]
    },
    {
     "name": "stderr",
     "output_type": "stream",
     "text": [
      "Validation Epoch 29: 100%|███████████████████████████████████████████████████████████████████████| 1/1 [00:00<00:00, 26.89it/s]\n"
     ]
    },
    {
     "name": "stdout",
     "output_type": "stream",
     "text": [
      "Epoch 29 - Validation Loss: 5.7454681396484375\n"
     ]
    },
    {
     "name": "stderr",
     "output_type": "stream",
     "text": [
      "SWA Validation Epoch 29: 100%|███████████████████████████████████████████████████████████████████| 1/1 [00:00<00:00, 26.79it/s]\n"
     ]
    },
    {
     "name": "stdout",
     "output_type": "stream",
     "text": [
      "SWA Model Evaluation after epoch 29 - Validation Loss: 5.660815238952637\n"
     ]
    },
    {
     "name": "stderr",
     "output_type": "stream",
     "text": [
      "Training Epoch 30: 100%|█████████████████████████████████████████████████████████████████████████| 8/8 [00:09<00:00,  1.15s/it]\n"
     ]
    },
    {
     "name": "stdout",
     "output_type": "stream",
     "text": [
      "Epoch 30 - Training Loss: 0.21851268969476223\n"
     ]
    },
    {
     "name": "stderr",
     "output_type": "stream",
     "text": [
      "Validation Epoch 30: 100%|███████████████████████████████████████████████████████████████████████| 1/1 [00:00<00:00, 27.04it/s]\n"
     ]
    },
    {
     "name": "stdout",
     "output_type": "stream",
     "text": [
      "Epoch 30 - Validation Loss: 5.827752113342285\n"
     ]
    },
    {
     "name": "stderr",
     "output_type": "stream",
     "text": [
      "SWA Validation Epoch 30: 100%|███████████████████████████████████████████████████████████████████| 1/1 [00:00<00:00, 27.01it/s]\n"
     ]
    },
    {
     "name": "stdout",
     "output_type": "stream",
     "text": [
      "SWA Model Evaluation after epoch 30 - Validation Loss: 5.66890811920166\n"
     ]
    },
    {
     "name": "stderr",
     "output_type": "stream",
     "text": [
      "Training Epoch 31: 100%|█████████████████████████████████████████████████████████████████████████| 8/8 [00:09<00:00,  1.15s/it]\n"
     ]
    },
    {
     "name": "stdout",
     "output_type": "stream",
     "text": [
      "Epoch 31 - Training Loss: 0.2286082822829485\n"
     ]
    },
    {
     "name": "stderr",
     "output_type": "stream",
     "text": [
      "Validation Epoch 31: 100%|███████████████████████████████████████████████████████████████████████| 1/1 [00:00<00:00, 27.07it/s]\n"
     ]
    },
    {
     "name": "stdout",
     "output_type": "stream",
     "text": [
      "Epoch 31 - Validation Loss: 5.897780418395996\n"
     ]
    },
    {
     "name": "stderr",
     "output_type": "stream",
     "text": [
      "SWA Validation Epoch 31: 100%|███████████████████████████████████████████████████████████████████| 1/1 [00:00<00:00, 26.82it/s]\n"
     ]
    },
    {
     "name": "stdout",
     "output_type": "stream",
     "text": [
      "SWA Model Evaluation after epoch 31 - Validation Loss: 5.682315826416016\n"
     ]
    },
    {
     "name": "stderr",
     "output_type": "stream",
     "text": [
      "Training Epoch 32: 100%|█████████████████████████████████████████████████████████████████████████| 8/8 [00:09<00:00,  1.15s/it]\n"
     ]
    },
    {
     "name": "stdout",
     "output_type": "stream",
     "text": [
      "Epoch 32 - Training Loss: 0.19465197809040546\n"
     ]
    },
    {
     "name": "stderr",
     "output_type": "stream",
     "text": [
      "Validation Epoch 32: 100%|███████████████████████████████████████████████████████████████████████| 1/1 [00:00<00:00, 27.15it/s]\n"
     ]
    },
    {
     "name": "stdout",
     "output_type": "stream",
     "text": [
      "Epoch 32 - Validation Loss: 5.580302715301514\n"
     ]
    },
    {
     "name": "stderr",
     "output_type": "stream",
     "text": [
      "SWA Validation Epoch 32: 100%|███████████████████████████████████████████████████████████████████| 1/1 [00:00<00:00, 26.66it/s]\n"
     ]
    },
    {
     "name": "stdout",
     "output_type": "stream",
     "text": [
      "SWA Model Evaluation after epoch 32 - Validation Loss: 5.665155410766602\n"
     ]
    },
    {
     "name": "stderr",
     "output_type": "stream",
     "text": [
      "Training Epoch 33: 100%|█████████████████████████████████████████████████████████████████████████| 8/8 [00:09<00:00,  1.15s/it]\n"
     ]
    },
    {
     "name": "stdout",
     "output_type": "stream",
     "text": [
      "Epoch 33 - Training Loss: 0.18325109407305717\n"
     ]
    },
    {
     "name": "stderr",
     "output_type": "stream",
     "text": [
      "Validation Epoch 33: 100%|███████████████████████████████████████████████████████████████████████| 1/1 [00:00<00:00, 27.18it/s]\n"
     ]
    },
    {
     "name": "stdout",
     "output_type": "stream",
     "text": [
      "Epoch 33 - Validation Loss: 5.701854705810547\n"
     ]
    },
    {
     "name": "stderr",
     "output_type": "stream",
     "text": [
      "SWA Validation Epoch 33: 100%|███████████████████████████████████████████████████████████████████| 1/1 [00:00<00:00, 26.97it/s]\n"
     ]
    },
    {
     "name": "stdout",
     "output_type": "stream",
     "text": [
      "SWA Model Evaluation after epoch 33 - Validation Loss: 5.663998603820801\n"
     ]
    },
    {
     "name": "stderr",
     "output_type": "stream",
     "text": [
      "Training Epoch 34: 100%|█████████████████████████████████████████████████████████████████████████| 8/8 [00:09<00:00,  1.15s/it]\n"
     ]
    },
    {
     "name": "stdout",
     "output_type": "stream",
     "text": [
      "Epoch 34 - Training Loss: 0.175113033503294\n"
     ]
    },
    {
     "name": "stderr",
     "output_type": "stream",
     "text": [
      "Validation Epoch 34: 100%|███████████████████████████████████████████████████████████████████████| 1/1 [00:00<00:00, 27.06it/s]\n"
     ]
    },
    {
     "name": "stdout",
     "output_type": "stream",
     "text": [
      "Epoch 34 - Validation Loss: 5.641720771789551\n"
     ]
    },
    {
     "name": "stderr",
     "output_type": "stream",
     "text": [
      "SWA Validation Epoch 34: 100%|███████████████████████████████████████████████████████████████████| 1/1 [00:00<00:00, 26.32it/s]\n"
     ]
    },
    {
     "name": "stdout",
     "output_type": "stream",
     "text": [
      "SWA Model Evaluation after epoch 34 - Validation Loss: 5.659002780914307\n"
     ]
    },
    {
     "name": "stderr",
     "output_type": "stream",
     "text": [
      "Training Epoch 35: 100%|█████████████████████████████████████████████████████████████████████████| 8/8 [00:09<00:00,  1.15s/it]\n"
     ]
    },
    {
     "name": "stdout",
     "output_type": "stream",
     "text": [
      "Epoch 35 - Training Loss: 0.17059210315346718\n"
     ]
    },
    {
     "name": "stderr",
     "output_type": "stream",
     "text": [
      "Validation Epoch 35: 100%|███████████████████████████████████████████████████████████████████████| 1/1 [00:00<00:00, 27.08it/s]\n"
     ]
    },
    {
     "name": "stdout",
     "output_type": "stream",
     "text": [
      "Epoch 35 - Validation Loss: 5.816795349121094\n"
     ]
    },
    {
     "name": "stderr",
     "output_type": "stream",
     "text": [
      "SWA Validation Epoch 35: 100%|███████████████████████████████████████████████████████████████████| 1/1 [00:00<00:00, 27.00it/s]\n"
     ]
    },
    {
     "name": "stdout",
     "output_type": "stream",
     "text": [
      "SWA Model Evaluation after epoch 35 - Validation Loss: 5.666078090667725\n"
     ]
    },
    {
     "name": "stderr",
     "output_type": "stream",
     "text": [
      "Training Epoch 36: 100%|█████████████████████████████████████████████████████████████████████████| 8/8 [00:09<00:00,  1.15s/it]\n"
     ]
    },
    {
     "name": "stdout",
     "output_type": "stream",
     "text": [
      "Epoch 36 - Training Loss: 0.1673105452209711\n"
     ]
    },
    {
     "name": "stderr",
     "output_type": "stream",
     "text": [
      "Validation Epoch 36: 100%|███████████████████████████████████████████████████████████████████████| 1/1 [00:00<00:00, 27.12it/s]\n"
     ]
    },
    {
     "name": "stdout",
     "output_type": "stream",
     "text": [
      "Epoch 36 - Validation Loss: 5.734953880310059\n"
     ]
    },
    {
     "name": "stderr",
     "output_type": "stream",
     "text": [
      "SWA Validation Epoch 36: 100%|███████████████████████████████████████████████████████████████████| 1/1 [00:00<00:00, 26.93it/s]\n"
     ]
    },
    {
     "name": "stdout",
     "output_type": "stream",
     "text": [
      "SWA Model Evaluation after epoch 36 - Validation Loss: 5.664777755737305\n"
     ]
    },
    {
     "name": "stderr",
     "output_type": "stream",
     "text": [
      "Training Epoch 37: 100%|█████████████████████████████████████████████████████████████████████████| 8/8 [00:09<00:00,  1.15s/it]\n"
     ]
    },
    {
     "name": "stdout",
     "output_type": "stream",
     "text": [
      "Epoch 37 - Training Loss: 0.16115432418882847\n"
     ]
    },
    {
     "name": "stderr",
     "output_type": "stream",
     "text": [
      "Validation Epoch 37: 100%|███████████████████████████████████████████████████████████████████████| 1/1 [00:00<00:00, 26.88it/s]\n"
     ]
    },
    {
     "name": "stdout",
     "output_type": "stream",
     "text": [
      "Epoch 37 - Validation Loss: 5.5046563148498535\n"
     ]
    },
    {
     "name": "stderr",
     "output_type": "stream",
     "text": [
      "SWA Validation Epoch 37: 100%|███████████████████████████████████████████████████████████████████| 1/1 [00:00<00:00, 27.02it/s]\n"
     ]
    },
    {
     "name": "stdout",
     "output_type": "stream",
     "text": [
      "SWA Model Evaluation after epoch 37 - Validation Loss: 5.650517463684082\n"
     ]
    },
    {
     "name": "stderr",
     "output_type": "stream",
     "text": [
      "Training Epoch 38: 100%|█████████████████████████████████████████████████████████████████████████| 8/8 [00:09<00:00,  1.15s/it]\n"
     ]
    },
    {
     "name": "stdout",
     "output_type": "stream",
     "text": [
      "Epoch 38 - Training Loss: 0.15457462146878242\n"
     ]
    },
    {
     "name": "stderr",
     "output_type": "stream",
     "text": [
      "Validation Epoch 38: 100%|███████████████████████████████████████████████████████████████████████| 1/1 [00:00<00:00, 27.06it/s]\n"
     ]
    },
    {
     "name": "stdout",
     "output_type": "stream",
     "text": [
      "Epoch 38 - Validation Loss: 5.580772876739502\n"
     ]
    },
    {
     "name": "stderr",
     "output_type": "stream",
     "text": [
      "SWA Validation Epoch 38: 100%|███████████████████████████████████████████████████████████████████| 1/1 [00:00<00:00, 26.92it/s]\n"
     ]
    },
    {
     "name": "stdout",
     "output_type": "stream",
     "text": [
      "SWA Model Evaluation after epoch 38 - Validation Loss: 5.6431121826171875\n"
     ]
    },
    {
     "name": "stderr",
     "output_type": "stream",
     "text": [
      "Training Epoch 39: 100%|█████████████████████████████████████████████████████████████████████████| 8/8 [00:09<00:00,  1.15s/it]\n"
     ]
    },
    {
     "name": "stdout",
     "output_type": "stream",
     "text": [
      "Epoch 39 - Training Loss: 0.1577967032790184\n"
     ]
    },
    {
     "name": "stderr",
     "output_type": "stream",
     "text": [
      "Validation Epoch 39: 100%|███████████████████████████████████████████████████████████████████████| 1/1 [00:00<00:00, 26.89it/s]\n"
     ]
    },
    {
     "name": "stdout",
     "output_type": "stream",
     "text": [
      "Epoch 39 - Validation Loss: 5.515976905822754\n"
     ]
    },
    {
     "name": "stderr",
     "output_type": "stream",
     "text": [
      "SWA Validation Epoch 39: 100%|███████████████████████████████████████████████████████████████████| 1/1 [00:00<00:00, 27.06it/s]\n"
     ]
    },
    {
     "name": "stdout",
     "output_type": "stream",
     "text": [
      "SWA Model Evaluation after epoch 39 - Validation Loss: 5.632471084594727\n"
     ]
    },
    {
     "name": "stderr",
     "output_type": "stream",
     "text": [
      "Training Epoch 40: 100%|█████████████████████████████████████████████████████████████████████████| 8/8 [00:09<00:00,  1.15s/it]\n"
     ]
    },
    {
     "name": "stdout",
     "output_type": "stream",
     "text": [
      "Epoch 40 - Training Loss: 0.1578656379133463\n"
     ]
    },
    {
     "name": "stderr",
     "output_type": "stream",
     "text": [
      "Validation Epoch 40: 100%|███████████████████████████████████████████████████████████████████████| 1/1 [00:00<00:00, 27.08it/s]\n"
     ]
    },
    {
     "name": "stdout",
     "output_type": "stream",
     "text": [
      "Epoch 40 - Validation Loss: 5.555078983306885\n"
     ]
    },
    {
     "name": "stderr",
     "output_type": "stream",
     "text": [
      "SWA Validation Epoch 40: 100%|███████████████████████████████████████████████████████████████████| 1/1 [00:00<00:00, 26.54it/s]\n"
     ]
    },
    {
     "name": "stdout",
     "output_type": "stream",
     "text": [
      "SWA Model Evaluation after epoch 40 - Validation Loss: 5.624856472015381\n"
     ]
    },
    {
     "name": "stderr",
     "output_type": "stream",
     "text": [
      "Training Epoch 41: 100%|█████████████████████████████████████████████████████████████████████████| 8/8 [00:09<00:00,  1.15s/it]\n"
     ]
    },
    {
     "name": "stdout",
     "output_type": "stream",
     "text": [
      "Epoch 41 - Training Loss: 0.1516964938491583\n"
     ]
    },
    {
     "name": "stderr",
     "output_type": "stream",
     "text": [
      "Validation Epoch 41: 100%|███████████████████████████████████████████████████████████████████████| 1/1 [00:00<00:00, 26.96it/s]\n"
     ]
    },
    {
     "name": "stdout",
     "output_type": "stream",
     "text": [
      "Epoch 41 - Validation Loss: 5.668537616729736\n"
     ]
    },
    {
     "name": "stderr",
     "output_type": "stream",
     "text": [
      "SWA Validation Epoch 41: 100%|███████████████████████████████████████████████████████████████████| 1/1 [00:00<00:00, 26.91it/s]\n"
     ]
    },
    {
     "name": "stdout",
     "output_type": "stream",
     "text": [
      "SWA Model Evaluation after epoch 41 - Validation Loss: 5.622838973999023\n"
     ]
    },
    {
     "name": "stderr",
     "output_type": "stream",
     "text": [
      "Training Epoch 42: 100%|█████████████████████████████████████████████████████████████████████████| 8/8 [00:09<00:00,  1.15s/it]\n"
     ]
    },
    {
     "name": "stdout",
     "output_type": "stream",
     "text": [
      "Epoch 42 - Training Loss: 0.157688669860363\n"
     ]
    },
    {
     "name": "stderr",
     "output_type": "stream",
     "text": [
      "Validation Epoch 42: 100%|███████████████████████████████████████████████████████████████████████| 1/1 [00:00<00:00, 27.04it/s]\n"
     ]
    },
    {
     "name": "stdout",
     "output_type": "stream",
     "text": [
      "Epoch 42 - Validation Loss: 5.459513187408447\n"
     ]
    },
    {
     "name": "stderr",
     "output_type": "stream",
     "text": [
      "SWA Validation Epoch 42: 100%|███████████████████████████████████████████████████████████████████| 1/1 [00:00<00:00, 26.68it/s]\n"
     ]
    },
    {
     "name": "stdout",
     "output_type": "stream",
     "text": [
      "SWA Model Evaluation after epoch 42 - Validation Loss: 5.612313747406006\n"
     ]
    },
    {
     "name": "stderr",
     "output_type": "stream",
     "text": [
      "Training Epoch 43: 100%|█████████████████████████████████████████████████████████████████████████| 8/8 [00:09<00:00,  1.15s/it]\n"
     ]
    },
    {
     "name": "stdout",
     "output_type": "stream",
     "text": [
      "Epoch 43 - Training Loss: 0.15338468924164772\n"
     ]
    },
    {
     "name": "stderr",
     "output_type": "stream",
     "text": [
      "Validation Epoch 43: 100%|███████████████████████████████████████████████████████████████████████| 1/1 [00:00<00:00, 26.96it/s]\n"
     ]
    },
    {
     "name": "stdout",
     "output_type": "stream",
     "text": [
      "Epoch 43 - Validation Loss: 5.688698768615723\n"
     ]
    },
    {
     "name": "stderr",
     "output_type": "stream",
     "text": [
      "SWA Validation Epoch 43: 100%|███████████████████████████████████████████████████████████████████| 1/1 [00:00<00:00, 26.70it/s]\n"
     ]
    },
    {
     "name": "stdout",
     "output_type": "stream",
     "text": [
      "SWA Model Evaluation after epoch 43 - Validation Loss: 5.611711502075195\n"
     ]
    },
    {
     "name": "stderr",
     "output_type": "stream",
     "text": [
      "Training Epoch 44: 100%|█████████████████████████████████████████████████████████████████████████| 8/8 [00:09<00:00,  1.17s/it]\n"
     ]
    },
    {
     "name": "stdout",
     "output_type": "stream",
     "text": [
      "Epoch 44 - Training Loss: 0.1518424227833748\n"
     ]
    },
    {
     "name": "stderr",
     "output_type": "stream",
     "text": [
      "Validation Epoch 44: 100%|███████████████████████████████████████████████████████████████████████| 1/1 [00:00<00:00, 27.10it/s]\n"
     ]
    },
    {
     "name": "stdout",
     "output_type": "stream",
     "text": [
      "Epoch 44 - Validation Loss: 5.6710076332092285\n"
     ]
    },
    {
     "name": "stderr",
     "output_type": "stream",
     "text": [
      "SWA Validation Epoch 44: 100%|███████████████████████████████████████████████████████████████████| 1/1 [00:00<00:00, 26.82it/s]\n"
     ]
    },
    {
     "name": "stdout",
     "output_type": "stream",
     "text": [
      "SWA Model Evaluation after epoch 44 - Validation Loss: 5.609177589416504\n"
     ]
    },
    {
     "name": "stderr",
     "output_type": "stream",
     "text": [
      "Training Epoch 45: 100%|█████████████████████████████████████████████████████████████████████████| 8/8 [00:09<00:00,  1.15s/it]\n"
     ]
    },
    {
     "name": "stdout",
     "output_type": "stream",
     "text": [
      "Epoch 45 - Training Loss: 0.14163308776915073\n"
     ]
    },
    {
     "name": "stderr",
     "output_type": "stream",
     "text": [
      "Validation Epoch 45: 100%|███████████████████████████████████████████████████████████████████████| 1/1 [00:00<00:00, 26.98it/s]\n"
     ]
    },
    {
     "name": "stdout",
     "output_type": "stream",
     "text": [
      "Epoch 45 - Validation Loss: 5.755284309387207\n"
     ]
    },
    {
     "name": "stderr",
     "output_type": "stream",
     "text": [
      "SWA Validation Epoch 45: 100%|███████████████████████████████████████████████████████████████████| 1/1 [00:00<00:00, 27.08it/s]\n"
     ]
    },
    {
     "name": "stdout",
     "output_type": "stream",
     "text": [
      "SWA Model Evaluation after epoch 45 - Validation Loss: 5.612310409545898\n"
     ]
    },
    {
     "name": "stderr",
     "output_type": "stream",
     "text": [
      "Training Epoch 46: 100%|█████████████████████████████████████████████████████████████████████████| 8/8 [00:09<00:00,  1.15s/it]\n"
     ]
    },
    {
     "name": "stdout",
     "output_type": "stream",
     "text": [
      "Epoch 46 - Training Loss: 0.13405691273510456\n"
     ]
    },
    {
     "name": "stderr",
     "output_type": "stream",
     "text": [
      "Validation Epoch 46: 100%|███████████████████████████████████████████████████████████████████████| 1/1 [00:00<00:00, 27.06it/s]\n"
     ]
    },
    {
     "name": "stdout",
     "output_type": "stream",
     "text": [
      "Epoch 46 - Validation Loss: 5.7020344734191895\n"
     ]
    },
    {
     "name": "stderr",
     "output_type": "stream",
     "text": [
      "SWA Validation Epoch 46: 100%|███████████████████████████████████████████████████████████████████| 1/1 [00:00<00:00, 26.85it/s]\n"
     ]
    },
    {
     "name": "stdout",
     "output_type": "stream",
     "text": [
      "SWA Model Evaluation after epoch 46 - Validation Loss: 5.613028049468994\n"
     ]
    },
    {
     "name": "stderr",
     "output_type": "stream",
     "text": [
      "Training Epoch 47: 100%|█████████████████████████████████████████████████████████████████████████| 8/8 [00:09<00:00,  1.15s/it]\n"
     ]
    },
    {
     "name": "stdout",
     "output_type": "stream",
     "text": [
      "Epoch 47 - Training Loss: 0.1364105213433504\n"
     ]
    },
    {
     "name": "stderr",
     "output_type": "stream",
     "text": [
      "Validation Epoch 47: 100%|███████████████████████████████████████████████████████████████████████| 1/1 [00:00<00:00, 27.14it/s]\n"
     ]
    },
    {
     "name": "stdout",
     "output_type": "stream",
     "text": [
      "Epoch 47 - Validation Loss: 5.488369941711426\n"
     ]
    },
    {
     "name": "stderr",
     "output_type": "stream",
     "text": [
      "SWA Validation Epoch 47: 100%|███████████████████████████████████████████████████████████████████| 1/1 [00:00<00:00, 26.91it/s]\n"
     ]
    },
    {
     "name": "stdout",
     "output_type": "stream",
     "text": [
      "SWA Model Evaluation after epoch 47 - Validation Loss: 5.605064392089844\n"
     ]
    },
    {
     "name": "stderr",
     "output_type": "stream",
     "text": [
      "Training Epoch 48: 100%|█████████████████████████████████████████████████████████████████████████| 8/8 [00:09<00:00,  1.15s/it]\n"
     ]
    },
    {
     "name": "stdout",
     "output_type": "stream",
     "text": [
      "Epoch 48 - Training Loss: 0.1319484831765294\n"
     ]
    },
    {
     "name": "stderr",
     "output_type": "stream",
     "text": [
      "Validation Epoch 48: 100%|███████████████████████████████████████████████████████████████████████| 1/1 [00:00<00:00, 27.27it/s]\n"
     ]
    },
    {
     "name": "stdout",
     "output_type": "stream",
     "text": [
      "Epoch 48 - Validation Loss: 5.578234672546387\n"
     ]
    },
    {
     "name": "stderr",
     "output_type": "stream",
     "text": [
      "SWA Validation Epoch 48: 100%|███████████████████████████████████████████████████████████████████| 1/1 [00:00<00:00, 26.77it/s]\n"
     ]
    },
    {
     "name": "stdout",
     "output_type": "stream",
     "text": [
      "SWA Model Evaluation after epoch 48 - Validation Loss: 5.601748466491699\n"
     ]
    },
    {
     "name": "stderr",
     "output_type": "stream",
     "text": [
      "Training Epoch 49: 100%|█████████████████████████████████████████████████████████████████████████| 8/8 [00:09<00:00,  1.15s/it]\n"
     ]
    },
    {
     "name": "stdout",
     "output_type": "stream",
     "text": [
      "Epoch 49 - Training Loss: 0.1284564482048154\n"
     ]
    },
    {
     "name": "stderr",
     "output_type": "stream",
     "text": [
      "Validation Epoch 49: 100%|███████████████████████████████████████████████████████████████████████| 1/1 [00:00<00:00, 27.08it/s]\n"
     ]
    },
    {
     "name": "stdout",
     "output_type": "stream",
     "text": [
      "Epoch 49 - Validation Loss: 5.494348049163818\n"
     ]
    },
    {
     "name": "stderr",
     "output_type": "stream",
     "text": [
      "SWA Validation Epoch 49: 100%|███████████████████████████████████████████████████████████████████| 1/1 [00:00<00:00, 27.14it/s]\n"
     ]
    },
    {
     "name": "stdout",
     "output_type": "stream",
     "text": [
      "SWA Model Evaluation after epoch 49 - Validation Loss: 5.596686363220215\n"
     ]
    },
    {
     "name": "stderr",
     "output_type": "stream",
     "text": [
      "Training Epoch 50: 100%|█████████████████████████████████████████████████████████████████████████| 8/8 [00:09<00:00,  1.15s/it]\n"
     ]
    },
    {
     "name": "stdout",
     "output_type": "stream",
     "text": [
      "Epoch 50 - Training Loss: 0.13596849888563156\n"
     ]
    },
    {
     "name": "stderr",
     "output_type": "stream",
     "text": [
      "Validation Epoch 50: 100%|███████████████████████████████████████████████████████████████████████| 1/1 [00:00<00:00, 27.01it/s]\n"
     ]
    },
    {
     "name": "stdout",
     "output_type": "stream",
     "text": [
      "Epoch 50 - Validation Loss: 5.625486373901367\n"
     ]
    },
    {
     "name": "stderr",
     "output_type": "stream",
     "text": [
      "SWA Validation Epoch 50: 100%|███████████████████████████████████████████████████████████████████| 1/1 [00:00<00:00, 27.19it/s]\n"
     ]
    },
    {
     "name": "stdout",
     "output_type": "stream",
     "text": [
      "SWA Model Evaluation after epoch 50 - Validation Loss: 5.594654560089111\n"
     ]
    },
    {
     "name": "stderr",
     "output_type": "stream",
     "text": [
      "Training Epoch 51: 100%|█████████████████████████████████████████████████████████████████████████| 8/8 [00:09<00:00,  1.15s/it]\n"
     ]
    },
    {
     "name": "stdout",
     "output_type": "stream",
     "text": [
      "Epoch 51 - Training Loss: 0.1300537809729576\n"
     ]
    },
    {
     "name": "stderr",
     "output_type": "stream",
     "text": [
      "Validation Epoch 51: 100%|███████████████████████████████████████████████████████████████████████| 1/1 [00:00<00:00, 27.14it/s]\n"
     ]
    },
    {
     "name": "stdout",
     "output_type": "stream",
     "text": [
      "Epoch 51 - Validation Loss: 5.483621597290039\n"
     ]
    },
    {
     "name": "stderr",
     "output_type": "stream",
     "text": [
      "SWA Validation Epoch 51: 100%|███████████████████████████████████████████████████████████████████| 1/1 [00:00<00:00, 27.17it/s]\n"
     ]
    },
    {
     "name": "stdout",
     "output_type": "stream",
     "text": [
      "SWA Model Evaluation after epoch 51 - Validation Loss: 5.588940620422363\n"
     ]
    },
    {
     "name": "stderr",
     "output_type": "stream",
     "text": [
      "Training Epoch 52: 100%|█████████████████████████████████████████████████████████████████████████| 8/8 [00:09<00:00,  1.15s/it]\n"
     ]
    },
    {
     "name": "stdout",
     "output_type": "stream",
     "text": [
      "Epoch 52 - Training Loss: 0.12357574235647917\n"
     ]
    },
    {
     "name": "stderr",
     "output_type": "stream",
     "text": [
      "Validation Epoch 52: 100%|███████████████████████████████████████████████████████████████████████| 1/1 [00:00<00:00, 26.98it/s]\n"
     ]
    },
    {
     "name": "stdout",
     "output_type": "stream",
     "text": [
      "Epoch 52 - Validation Loss: 5.637167930603027\n"
     ]
    },
    {
     "name": "stderr",
     "output_type": "stream",
     "text": [
      "SWA Validation Epoch 52: 100%|███████████████████████████████████████████████████████████████████| 1/1 [00:00<00:00, 27.09it/s]\n"
     ]
    },
    {
     "name": "stdout",
     "output_type": "stream",
     "text": [
      "SWA Model Evaluation after epoch 52 - Validation Loss: 5.588328838348389\n"
     ]
    },
    {
     "name": "stderr",
     "output_type": "stream",
     "text": [
      "Training Epoch 53: 100%|█████████████████████████████████████████████████████████████████████████| 8/8 [00:09<00:00,  1.15s/it]\n"
     ]
    },
    {
     "name": "stdout",
     "output_type": "stream",
     "text": [
      "Epoch 53 - Training Loss: 0.12369759753346443\n"
     ]
    },
    {
     "name": "stderr",
     "output_type": "stream",
     "text": [
      "Validation Epoch 53: 100%|███████████████████████████████████████████████████████████████████████| 1/1 [00:00<00:00, 27.19it/s]\n"
     ]
    },
    {
     "name": "stdout",
     "output_type": "stream",
     "text": [
      "Epoch 53 - Validation Loss: 5.505627155303955\n"
     ]
    },
    {
     "name": "stderr",
     "output_type": "stream",
     "text": [
      "SWA Validation Epoch 53: 100%|███████████████████████████████████████████████████████████████████| 1/1 [00:00<00:00, 27.13it/s]\n"
     ]
    },
    {
     "name": "stdout",
     "output_type": "stream",
     "text": [
      "SWA Model Evaluation after epoch 53 - Validation Loss: 5.582987308502197\n"
     ]
    },
    {
     "name": "stderr",
     "output_type": "stream",
     "text": [
      "Training Epoch 54: 100%|█████████████████████████████████████████████████████████████████████████| 8/8 [00:09<00:00,  1.15s/it]\n"
     ]
    },
    {
     "name": "stdout",
     "output_type": "stream",
     "text": [
      "Epoch 54 - Training Loss: 0.12581718154251575\n"
     ]
    },
    {
     "name": "stderr",
     "output_type": "stream",
     "text": [
      "Validation Epoch 54: 100%|███████████████████████████████████████████████████████████████████████| 1/1 [00:00<00:00, 27.04it/s]\n"
     ]
    },
    {
     "name": "stdout",
     "output_type": "stream",
     "text": [
      "Epoch 54 - Validation Loss: 5.644604682922363\n"
     ]
    },
    {
     "name": "stderr",
     "output_type": "stream",
     "text": [
      "SWA Validation Epoch 54: 100%|███████████████████████████████████████████████████████████████████| 1/1 [00:00<00:00, 26.63it/s]\n"
     ]
    },
    {
     "name": "stdout",
     "output_type": "stream",
     "text": [
      "SWA Model Evaluation after epoch 54 - Validation Loss: 5.581836700439453\n"
     ]
    },
    {
     "name": "stderr",
     "output_type": "stream",
     "text": [
      "Training Epoch 55: 100%|█████████████████████████████████████████████████████████████████████████| 8/8 [00:09<00:00,  1.15s/it]\n"
     ]
    },
    {
     "name": "stdout",
     "output_type": "stream",
     "text": [
      "Epoch 55 - Training Loss: 0.12238303665071726\n"
     ]
    },
    {
     "name": "stderr",
     "output_type": "stream",
     "text": [
      "Validation Epoch 55: 100%|███████████████████████████████████████████████████████████████████████| 1/1 [00:00<00:00, 26.93it/s]\n"
     ]
    },
    {
     "name": "stdout",
     "output_type": "stream",
     "text": [
      "Epoch 55 - Validation Loss: 5.5302510261535645\n"
     ]
    },
    {
     "name": "stderr",
     "output_type": "stream",
     "text": [
      "SWA Validation Epoch 55: 100%|███████████████████████████████████████████████████████████████████| 1/1 [00:00<00:00, 26.99it/s]\n"
     ]
    },
    {
     "name": "stdout",
     "output_type": "stream",
     "text": [
      "SWA Model Evaluation after epoch 55 - Validation Loss: 5.577974319458008\n"
     ]
    },
    {
     "name": "stderr",
     "output_type": "stream",
     "text": [
      "Training Epoch 56: 100%|█████████████████████████████████████████████████████████████████████████| 8/8 [00:09<00:00,  1.14s/it]\n"
     ]
    },
    {
     "name": "stdout",
     "output_type": "stream",
     "text": [
      "Epoch 56 - Training Loss: 0.12223585695028305\n"
     ]
    },
    {
     "name": "stderr",
     "output_type": "stream",
     "text": [
      "Validation Epoch 56: 100%|███████████████████████████████████████████████████████████████████████| 1/1 [00:00<00:00, 27.02it/s]\n"
     ]
    },
    {
     "name": "stdout",
     "output_type": "stream",
     "text": [
      "Epoch 56 - Validation Loss: 5.565384387969971\n"
     ]
    },
    {
     "name": "stderr",
     "output_type": "stream",
     "text": [
      "SWA Validation Epoch 56: 100%|███████████████████████████████████████████████████████████████████| 1/1 [00:00<00:00, 27.09it/s]\n"
     ]
    },
    {
     "name": "stdout",
     "output_type": "stream",
     "text": [
      "SWA Model Evaluation after epoch 56 - Validation Loss: 5.573944568634033\n"
     ]
    },
    {
     "name": "stderr",
     "output_type": "stream",
     "text": [
      "Training Epoch 57: 100%|█████████████████████████████████████████████████████████████████████████| 8/8 [00:09<00:00,  1.14s/it]\n"
     ]
    },
    {
     "name": "stdout",
     "output_type": "stream",
     "text": [
      "Epoch 57 - Training Loss: 0.12750483117997646\n"
     ]
    },
    {
     "name": "stderr",
     "output_type": "stream",
     "text": [
      "Validation Epoch 57: 100%|███████████████████████████████████████████████████████████████████████| 1/1 [00:00<00:00, 26.98it/s]\n"
     ]
    },
    {
     "name": "stdout",
     "output_type": "stream",
     "text": [
      "Epoch 57 - Validation Loss: 5.404972553253174\n"
     ]
    },
    {
     "name": "stderr",
     "output_type": "stream",
     "text": [
      "SWA Validation Epoch 57: 100%|███████████████████████████████████████████████████████████████████| 1/1 [00:00<00:00, 26.89it/s]\n"
     ]
    },
    {
     "name": "stdout",
     "output_type": "stream",
     "text": [
      "SWA Model Evaluation after epoch 57 - Validation Loss: 5.56689453125\n"
     ]
    },
    {
     "name": "stderr",
     "output_type": "stream",
     "text": [
      "Training Epoch 58: 100%|█████████████████████████████████████████████████████████████████████████| 8/8 [00:09<00:00,  1.14s/it]\n"
     ]
    },
    {
     "name": "stdout",
     "output_type": "stream",
     "text": [
      "Epoch 58 - Training Loss: 0.11496643722057343\n"
     ]
    },
    {
     "name": "stderr",
     "output_type": "stream",
     "text": [
      "Validation Epoch 58: 100%|███████████████████████████████████████████████████████████████████████| 1/1 [00:00<00:00, 26.97it/s]\n"
     ]
    },
    {
     "name": "stdout",
     "output_type": "stream",
     "text": [
      "Epoch 58 - Validation Loss: 5.509668350219727\n"
     ]
    },
    {
     "name": "stderr",
     "output_type": "stream",
     "text": [
      "SWA Validation Epoch 58: 100%|███████████████████████████████████████████████████████████████████| 1/1 [00:00<00:00, 26.91it/s]\n"
     ]
    },
    {
     "name": "stdout",
     "output_type": "stream",
     "text": [
      "SWA Model Evaluation after epoch 58 - Validation Loss: 5.563389301300049\n"
     ]
    },
    {
     "name": "stderr",
     "output_type": "stream",
     "text": [
      "Training Epoch 59: 100%|█████████████████████████████████████████████████████████████████████████| 8/8 [00:09<00:00,  1.14s/it]\n"
     ]
    },
    {
     "name": "stdout",
     "output_type": "stream",
     "text": [
      "Epoch 59 - Training Loss: 0.11352111306041479\n"
     ]
    },
    {
     "name": "stderr",
     "output_type": "stream",
     "text": [
      "Validation Epoch 59: 100%|███████████████████████████████████████████████████████████████████████| 1/1 [00:00<00:00, 26.95it/s]\n"
     ]
    },
    {
     "name": "stdout",
     "output_type": "stream",
     "text": [
      "Epoch 59 - Validation Loss: 5.578693389892578\n"
     ]
    },
    {
     "name": "stderr",
     "output_type": "stream",
     "text": [
      "SWA Validation Epoch 59: 100%|███████████████████████████████████████████████████████████████████| 1/1 [00:00<00:00, 27.06it/s]\n"
     ]
    },
    {
     "name": "stdout",
     "output_type": "stream",
     "text": [
      "SWA Model Evaluation after epoch 59 - Validation Loss: 5.561767101287842\n"
     ]
    },
    {
     "name": "stderr",
     "output_type": "stream",
     "text": [
      "Training Epoch 60: 100%|█████████████████████████████████████████████████████████████████████████| 8/8 [00:09<00:00,  1.14s/it]\n"
     ]
    },
    {
     "name": "stdout",
     "output_type": "stream",
     "text": [
      "Epoch 60 - Training Loss: 0.10905122105032206\n"
     ]
    },
    {
     "name": "stderr",
     "output_type": "stream",
     "text": [
      "Validation Epoch 60: 100%|███████████████████████████████████████████████████████████████████████| 1/1 [00:00<00:00, 27.22it/s]\n"
     ]
    },
    {
     "name": "stdout",
     "output_type": "stream",
     "text": [
      "Epoch 60 - Validation Loss: 5.6112775802612305\n"
     ]
    },
    {
     "name": "stderr",
     "output_type": "stream",
     "text": [
      "SWA Validation Epoch 60: 100%|███████████████████████████████████████████████████████████████████| 1/1 [00:00<00:00, 27.06it/s]\n"
     ]
    },
    {
     "name": "stdout",
     "output_type": "stream",
     "text": [
      "SWA Model Evaluation after epoch 60 - Validation Loss: 5.56103515625\n"
     ]
    },
    {
     "name": "stderr",
     "output_type": "stream",
     "text": [
      "Training Epoch 61: 100%|█████████████████████████████████████████████████████████████████████████| 8/8 [00:09<00:00,  1.14s/it]\n"
     ]
    },
    {
     "name": "stdout",
     "output_type": "stream",
     "text": [
      "Epoch 61 - Training Loss: 0.10846589226275682\n"
     ]
    },
    {
     "name": "stderr",
     "output_type": "stream",
     "text": [
      "Validation Epoch 61: 100%|███████████████████████████████████████████████████████████████████████| 1/1 [00:00<00:00, 27.08it/s]\n"
     ]
    },
    {
     "name": "stdout",
     "output_type": "stream",
     "text": [
      "Epoch 61 - Validation Loss: 5.640499114990234\n"
     ]
    },
    {
     "name": "stderr",
     "output_type": "stream",
     "text": [
      "SWA Validation Epoch 61: 100%|███████████████████████████████████████████████████████████████████| 1/1 [00:00<00:00, 27.09it/s]\n"
     ]
    },
    {
     "name": "stdout",
     "output_type": "stream",
     "text": [
      "SWA Model Evaluation after epoch 61 - Validation Loss: 5.561398983001709\n"
     ]
    },
    {
     "name": "stderr",
     "output_type": "stream",
     "text": [
      "Training Epoch 62: 100%|█████████████████████████████████████████████████████████████████████████| 8/8 [00:09<00:00,  1.14s/it]\n"
     ]
    },
    {
     "name": "stdout",
     "output_type": "stream",
     "text": [
      "Epoch 62 - Training Loss: 0.1081274077296257\n"
     ]
    },
    {
     "name": "stderr",
     "output_type": "stream",
     "text": [
      "Validation Epoch 62: 100%|███████████████████████████████████████████████████████████████████████| 1/1 [00:00<00:00, 27.15it/s]\n"
     ]
    },
    {
     "name": "stdout",
     "output_type": "stream",
     "text": [
      "Epoch 62 - Validation Loss: 5.632352828979492\n"
     ]
    },
    {
     "name": "stderr",
     "output_type": "stream",
     "text": [
      "SWA Validation Epoch 62: 100%|███████████████████████████████████████████████████████████████████| 1/1 [00:00<00:00, 27.19it/s]\n"
     ]
    },
    {
     "name": "stdout",
     "output_type": "stream",
     "text": [
      "SWA Model Evaluation after epoch 62 - Validation Loss: 5.561351776123047\n"
     ]
    },
    {
     "name": "stderr",
     "output_type": "stream",
     "text": [
      "Training Epoch 63: 100%|█████████████████████████████████████████████████████████████████████████| 8/8 [00:09<00:00,  1.17s/it]\n"
     ]
    },
    {
     "name": "stdout",
     "output_type": "stream",
     "text": [
      "Epoch 63 - Training Loss: 0.10357505921274424\n"
     ]
    },
    {
     "name": "stderr",
     "output_type": "stream",
     "text": [
      "Validation Epoch 63: 100%|███████████████████████████████████████████████████████████████████████| 1/1 [00:00<00:00, 26.96it/s]\n"
     ]
    },
    {
     "name": "stdout",
     "output_type": "stream",
     "text": [
      "Epoch 63 - Validation Loss: 5.792212963104248\n"
     ]
    },
    {
     "name": "stderr",
     "output_type": "stream",
     "text": [
      "SWA Validation Epoch 63: 100%|███████████████████████████████████████████████████████████████████| 1/1 [00:00<00:00, 27.05it/s]\n"
     ]
    },
    {
     "name": "stdout",
     "output_type": "stream",
     "text": [
      "SWA Model Evaluation after epoch 63 - Validation Loss: 5.5648651123046875\n"
     ]
    },
    {
     "name": "stderr",
     "output_type": "stream",
     "text": [
      "Training Epoch 64: 100%|█████████████████████████████████████████████████████████████████████████| 8/8 [00:09<00:00,  1.14s/it]\n"
     ]
    },
    {
     "name": "stdout",
     "output_type": "stream",
     "text": [
      "Epoch 64 - Training Loss: 0.10315524786710739\n"
     ]
    },
    {
     "name": "stderr",
     "output_type": "stream",
     "text": [
      "Validation Epoch 64: 100%|███████████████████████████████████████████████████████████████████████| 1/1 [00:00<00:00, 26.68it/s]\n"
     ]
    },
    {
     "name": "stdout",
     "output_type": "stream",
     "text": [
      "Epoch 64 - Validation Loss: 5.648184776306152\n"
     ]
    },
    {
     "name": "stderr",
     "output_type": "stream",
     "text": [
      "SWA Validation Epoch 64: 100%|███████████████████████████████████████████████████████████████████| 1/1 [00:00<00:00, 26.82it/s]\n"
     ]
    },
    {
     "name": "stdout",
     "output_type": "stream",
     "text": [
      "SWA Model Evaluation after epoch 64 - Validation Loss: 5.564289093017578\n"
     ]
    },
    {
     "name": "stderr",
     "output_type": "stream",
     "text": [
      "Training Epoch 65: 100%|█████████████████████████████████████████████████████████████████████████| 8/8 [00:09<00:00,  1.14s/it]\n"
     ]
    },
    {
     "name": "stdout",
     "output_type": "stream",
     "text": [
      "Epoch 65 - Training Loss: 0.10570907592773438\n"
     ]
    },
    {
     "name": "stderr",
     "output_type": "stream",
     "text": [
      "Validation Epoch 65: 100%|███████████████████████████████████████████████████████████████████████| 1/1 [00:00<00:00, 26.98it/s]\n"
     ]
    },
    {
     "name": "stdout",
     "output_type": "stream",
     "text": [
      "Epoch 65 - Validation Loss: 5.671249866485596\n"
     ]
    },
    {
     "name": "stderr",
     "output_type": "stream",
     "text": [
      "SWA Validation Epoch 65: 100%|███████████████████████████████████████████████████████████████████| 1/1 [00:00<00:00, 27.08it/s]"
     ]
    },
    {
     "name": "stdout",
     "output_type": "stream",
     "text": [
      "SWA Model Evaluation after epoch 65 - Validation Loss: 5.56440544128418\n",
      "Early stopping due to no improvement in SWA validation loss.\n",
      "Loading the best model state...\n"
     ]
    },
    {
     "name": "stderr",
     "output_type": "stream",
     "text": [
      "\n"
     ]
    }
   ],
   "source": [
    "import datamol as dm\n",
    "import pandas as pd\n",
    "from transformers import AutoTokenizer, AutoModelForSequenceClassification, TrainingArguments, Trainer, EarlyStoppingCallback, get_linear_schedule_with_warmup\n",
    "import torch\n",
    "from sklearn.model_selection import train_test_split\n",
    "from sklearn.metrics import mean_squared_error, r2_score\n",
    "import matplotlib.pyplot as plt\n",
    "from copy import deepcopy\n",
    "from torch.utils.data import DataLoader\n",
    "from transformers import AutoModelForSequenceClassification, AdamW\n",
    "from torch.optim.swa_utils import AveragedModel, SWALR, update_bn\n",
    "from tqdm import tqdm\n",
    "\n",
    "\n",
    "# Load the ChemBERTa model and tokenizer\n",
    "tokenizer = AutoTokenizer.from_pretrained(\"seyonec/ChemBERTa-zinc-base-v1\")\n",
    "device = torch.device(\"cuda\" if torch.cuda.is_available() else \"cpu\")\n",
    "model = AutoModelForSequenceClassification.from_pretrained(\"seyonec/ChemBERTa-zinc-base-v1\", num_labels=1)\n",
    "model.to(device) \n",
    "\n",
    "# Load the data\n",
    "df = dm.data.freesolv()\n",
    "X, y = df[\"smiles\"], df[\"expt\"]\n",
    "\n",
    "# Tokenize the SMILES strings\n",
    "def tokenize_function(smiles):\n",
    "    return tokenizer(smiles, padding=\"max_length\", truncation=True, max_length=128)\n",
    "\n",
    "# Convert the tokenized data to the format required by Hugging Face\n",
    "class FreeSolvDataset(torch.utils.data.Dataset):\n",
    "    def __init__(self, encodings, labels):\n",
    "        self.encodings = encodings\n",
    "        self.labels = labels\n",
    "\n",
    "    def __getitem__(self, idx):\n",
    "        item = {key: torch.tensor(val[idx]) for key, val in self.encodings.items()}\n",
    "        item[\"labels\"] = torch.tensor(self.labels[idx], dtype=torch.float)\n",
    "        return item\n",
    "\n",
    "    def __len__(self):\n",
    "        return len(self.labels)\n",
    "\n",
    "# Split the data into training, validation, and test sets\n",
    "X_train, X_temp, y_train, y_temp = train_test_split(X, y, test_size=0.4, random_state=42)\n",
    "X_val, X_test, y_val, y_test = train_test_split(X_temp, y_temp, test_size=0.5, random_state=42)\n",
    "\n",
    "# Data augmentation: Randomize SMILES strings\n",
    "new_X, new_Y = [], []\n",
    "\n",
    "for idx in X_train.index:\n",
    "    new_dict = {}\n",
    "    for j in range(100):\n",
    "        new_dict[sme.randomize_smiles(X_train.loc[idx])] = True\n",
    "    new_x = list(new_dict.keys())\n",
    "    new_y = [y_train.loc[idx]] * len(new_x)\n",
    "#     print(idx)\n",
    "#     print(new_x)\n",
    "#     print(new_y)\n",
    "    new_X.extend(new_x)\n",
    "    new_Y.extend(new_y)\n",
    "\n",
    "# Convert new_X and new_Y to DataFrame or Series if needed\n",
    "X_train = pd.Series(new_X).squeeze()\n",
    "y_train = pd.Series(new_Y).squeeze()\n",
    "\n",
    "# Convert augmented data to DataFrame and Series\n",
    "# X_train = pd.DataFrame(new_X).squeeze()\n",
    "# y_train = pd.DataFrame(new_Y).squeeze()\n",
    "\n",
    "# Tokenize the datasets\n",
    "print(\"Tokenizing datasets...\")\n",
    "train_encodings = tokenizer(list(X_train), padding=True, truncation=True, max_length=128, return_tensors=\"pt\")\n",
    "val_encodings = tokenizer(list(X_val), padding=True, truncation=True, max_length=128, return_tensors=\"pt\")\n",
    "test_encodings = tokenizer(list(X_test), padding=True, truncation=True, max_length=128, return_tensors=\"pt\")\n",
    "\n",
    "\n",
    "# Create the datasets\n",
    "class FreeSolvDataset(torch.utils.data.Dataset):\n",
    "    def __init__(self, encodings, labels):\n",
    "        self.encodings = encodings\n",
    "        self.labels = labels\n",
    "\n",
    "    def __getitem__(self, idx):\n",
    "        item = {key: val[idx].clone().detach() for key, val in self.encodings.items()}\n",
    "        item[\"labels\"] = torch.tensor(self.labels[idx], dtype=torch.float).clone().detach()\n",
    "        return item\n",
    "\n",
    "    def __len__(self):\n",
    "        return len(self.labels)\n",
    "\n",
    "print(\"Creating datasets...\")\n",
    "train_dataset = FreeSolvDataset(train_encodings, y_train.values)\n",
    "val_dataset = FreeSolvDataset(val_encodings, y_val.values)\n",
    "test_dataset = FreeSolvDataset(test_encodings, y_test.values)\n",
    "\n",
    "# Create DataLoader for batching\n",
    "print(\"Creating DataLoader for batching...\")\n",
    "train_loader = DataLoader(train_dataset, batch_size=1024, shuffle=True)\n",
    "val_loader = DataLoader(val_dataset, batch_size=1024)\n",
    "test_loader = DataLoader(test_dataset, batch_size=1024)\n",
    "\n",
    "# Create the optimizer and learning rate scheduler\n",
    "print(\"Creating optimizer and learning rate scheduler...\")\n",
    "optimizer = AdamW(model.parameters(), lr=3e-4, weight_decay=0.03)\n",
    "\n",
    "# Custom learning rate scheduler function\n",
    "def lr_lambda(epoch):\n",
    "    if epoch < 20:\n",
    "        return 1 - (epoch / 10) * 0.5  # Decay by a factor of 2\n",
    "    else:\n",
    "        return 0.5  # Remain flat\n",
    "\n",
    "scheduler = torch.optim.lr_scheduler.LambdaLR(optimizer, lr_lambda)\n",
    "\n",
    "# Initialize SWA\n",
    "print(\"Initializing SWA...\")\n",
    "swa_model = AveragedModel(model)\n",
    "swa_start = 20\n",
    "swa_scheduler = SWALR(optimizer, swa_lr=1e-4)\n",
    "\n",
    "# Early stopping variables\n",
    "best_val_loss = float('inf')\n",
    "best_swa_eval_loss = float('inf')\n",
    "patience = 5\n",
    "epochs_no_improve = 0\n",
    "best_model_state = None\n",
    "best_swa_model_state = None\n",
    "\n",
    "# Training loop\n",
    "print(\"Starting training loop...\")\n",
    "for epoch in range(200):\n",
    "    model.train()\n",
    "    total_loss = 0\n",
    "    for batch in tqdm(train_loader, desc=f\"Training Epoch {epoch + 1}\"):\n",
    "        optimizer.zero_grad()\n",
    "        inputs = {k: v.to(device) for k, v in batch.items() if k != 'labels'}\n",
    "        labels = batch['labels'].to(device)\n",
    "        outputs = model(**inputs, labels=labels)\n",
    "        loss = outputs.loss\n",
    "        loss.backward()\n",
    "        optimizer.step()\n",
    "        scheduler.step()\n",
    "        total_loss += loss.item()\n",
    "    \n",
    "    print(f\"Epoch {epoch + 1} - Training Loss: {total_loss / len(train_loader)}\")\n",
    "\n",
    "    model.eval()\n",
    "    eval_loss = 0\n",
    "    for batch in tqdm(val_loader, desc=f\"Validation Epoch {epoch + 1}\"):\n",
    "        with torch.no_grad():\n",
    "            inputs = {k: v.to(device) for k, v in batch.items() if k != 'labels'}\n",
    "            labels = batch['labels'].to(device)\n",
    "            outputs = model(**inputs, labels=labels)\n",
    "            loss = outputs.loss\n",
    "            eval_loss += loss.item()\n",
    "    \n",
    "    eval_loss /= len(val_loader)\n",
    "    print(f\"Epoch {epoch + 1} - Validation Loss: {eval_loss}\")\n",
    "\n",
    "    swa_eval_loss = None\n",
    "    if epoch >= swa_start:\n",
    "        swa_model.update_parameters(model)\n",
    "        swa_scheduler.step()\n",
    "        update_bn(train_loader, swa_model)\n",
    "        swa_eval_loss = 0\n",
    "        for batch in tqdm(val_loader, desc=f\"SWA Validation Epoch {epoch + 1}\"):\n",
    "            with torch.no_grad():\n",
    "                inputs = {k: v.to(device) for k, v in batch.items() if k != 'labels'}\n",
    "                labels = batch['labels'].to(device)\n",
    "                outputs = swa_model(**inputs, labels=labels)\n",
    "                loss = outputs.loss\n",
    "                swa_eval_loss += loss.item()\n",
    "        \n",
    "        swa_eval_loss /= len(val_loader)\n",
    "        print(f\"SWA Model Evaluation after epoch {epoch + 1} - Validation Loss: {swa_eval_loss}\")\n",
    "\n",
    "        # Check for early stopping and best model state after SWA has started\n",
    "        if swa_eval_loss < best_swa_eval_loss:\n",
    "            best_swa_eval_loss = swa_eval_loss\n",
    "            best_swa_model_state = swa_model.state_dict()\n",
    "            epochs_no_improve = 0\n",
    "        else:\n",
    "            epochs_no_improve += 1\n",
    "\n",
    "        if epochs_no_improve >= patience:\n",
    "            print(\"Early stopping due to no improvement in SWA validation loss.\")\n",
    "            break\n",
    "\n",
    "    # Check for best model state based on validation loss\n",
    "    if eval_loss < best_val_loss:\n",
    "        best_val_loss = eval_loss\n",
    "        best_model_state = model.state_dict()\n",
    "\n",
    "# Load the best model state\n",
    "if best_swa_model_state is not None and best_swa_eval_loss < best_val_loss:\n",
    "    print(\"Loading the best SWA model state...\")\n",
    "    swa_model.load_state_dict(best_swa_model_state)\n",
    "    model = swa_model\n",
    "else:\n",
    "    print(\"Loading the best model state...\")\n",
    "    model.load_state_dict(best_model_state)\n"
   ]
  },
  {
   "cell_type": "code",
   "execution_count": 13,
   "id": "cc18842b",
   "metadata": {},
   "outputs": [
    {
     "name": "stdout",
     "output_type": "stream",
     "text": [
      "Evaluating final SWA model...\n"
     ]
    },
    {
     "name": "stderr",
     "output_type": "stream",
     "text": [
      "Testing and Predicting: 100%|████████████████████████████████████████████████████████████████████| 1/1 [00:00<00:00, 26.89it/s]"
     ]
    },
    {
     "name": "stdout",
     "output_type": "stream",
     "text": [
      "Final Test Loss: 1.2458096742630005\n",
      "Plotting predictions vs true values...\n"
     ]
    },
    {
     "name": "stderr",
     "output_type": "stream",
     "text": [
      "\n"
     ]
    },
    {
     "data": {
      "image/png": "[encoded data removed]",
      "text/plain": [
       "<Figure size 800x600 with 1 Axes>"
      ]
     },
     "metadata": {},
     "output_type": "display_data"
    }
   ],
   "source": [
    "print(\"Evaluating final SWA model...\")\n",
    "update_bn(train_loader, swa_model)\n",
    "model = swa_model\n",
    "\n",
    "test_loss = 0\n",
    "predictions = []\n",
    "\n",
    "with torch.no_grad():\n",
    "    for batch in tqdm(test_loader, desc=\"Testing and Predicting\"):\n",
    "        inputs = {k: v.to(device) for k, v in batch.items() if k != 'labels'}\n",
    "        labels = batch['labels'].to(device)\n",
    "        outputs = model(**inputs, labels=labels)\n",
    "        \n",
    "        # Calculate and accumulate test loss\n",
    "        loss = outputs.loss\n",
    "        test_loss += loss.item()\n",
    "        \n",
    "        # Generate predictions\n",
    "        preds = outputs.logits.squeeze().tolist()\n",
    "        predictions.extend(preds)\n",
    "\n",
    "# Average the test loss over all batches\n",
    "test_loss /= len(test_loader)\n",
    "print(f\"Final Test Loss: {test_loss}\")\n",
    "\n",
    "# Plot predictions vs true values for test set\n",
    "print(\"Plotting predictions vs true values...\")\n",
    "plt.figure(figsize=(8, 6))\n",
    "plt.scatter(y_test, predictions, alpha=0.6, color='green')\n",
    "plt.xlabel('True Values')\n",
    "plt.ylabel('Predictions')\n",
    "plt.title('Test Set: True Values vs Predictions')\n",
    "plt.plot([y_test.min(), y_test.max()], [y_test.min(), y_test.max()], 'k--', lw=2)\n",
    "plt.show()\n"
   ]
  },
  {
   "cell_type": "code",
   "execution_count": null,
   "id": "01c61c1d",
   "metadata": {},
   "outputs": [],
   "source": [
    "checkpoint_path = \"model_checkpoint_{:.2f}.pth\".format(test_loss)\n",
    "torch.save(model, checkpoint_path)\n",
    "print(f\"Model checkpoint saved to {checkpoint_path}\")\n"
   ]
  },
  {
   "cell_type": "markdown",
   "id": "2b70a851",
   "metadata": {},
   "source": [
    "## Interface to Run the model on new data"
   ]
  },
  {
   "cell_type": "code",
   "execution_count": 15,
   "id": "1f7105c5",
   "metadata": {},
   "outputs": [
    {
     "name": "stdout",
     "output_type": "stream",
     "text": [
      "Prediction for CCO: -5.335525035858154\n"
     ]
    }
   ],
   "source": [
    "model.load_state_dict(torch.load(checkpoint_path))\n",
    "model.eval()\n",
    "\n",
    "# Define a function to tokenize input and get prediction\n",
    "def predict(smiles_string):\n",
    "    # Tokenize the input SMILES string\n",
    "    inputs = tokenizer(smiles_string, return_tensors=\"pt\", padding=True, truncation=True, max_length=128)\n",
    "    \n",
    "    # Move inputs to the appropriate device\n",
    "    device = torch.device(\"cuda\" if torch.cuda.is_available() else \"cpu\")\n",
    "    model.to(device)\n",
    "    inputs = {k: v.to(device) for k, v in inputs.items()}\n",
    "    \n",
    "    # Get the model prediction\n",
    "    with torch.no_grad():\n",
    "        outputs = model(**inputs)\n",
    "        prediction = outputs.logits.squeeze().item()\n",
    "    \n",
    "    return prediction\n",
    "\n",
    "# Example usage\n",
    "smiles_string = \"CCO\"  # Replace this with your SMILES string\n",
    "prediction = predict(smiles_string)\n",
    "print(f\"Prediction for {smiles_string}: {prediction}\")"
   ]
  }
 ],
 "metadata": {
  "kernelspec": {
   "display_name": "Python [conda env:root] *",
   "language": "python",
   "name": "conda-root-py"
  },
  "language_info": {
   "codemirror_mode": {
    "name": "ipython",
    "version": 3
   },
   "file_extension": ".py",
   "mimetype": "text/x-python",
   "name": "python",
   "nbconvert_exporter": "python",
   "pygments_lexer": "ipython3",
   "version": "3.11.7"
  }
 },
 "nbformat": 4,
 "nbformat_minor": 5
}
